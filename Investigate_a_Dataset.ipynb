{
 "cells": [
  {
   "cell_type": "markdown",
   "metadata": {},
   "source": [
    "# Project: Investigate a Dataset - No-show Appointments\n",
    "\n",
    "## Table of Contents\n",
    "<ul>\n",
    "<li><a href=\"#intro\">Introduction</a></li>\n",
    "<li><a href=\"#wrangling\">Data Wrangling</a></li>\n",
    "<li><a href=\"#eda\">Exploratory Data Analysis</a></li>\n",
    "<li><a href=\"#conclusions\">Conclusions</a></li>\n",
    "</ul>"
   ]
  },
  {
   "cell_type": "markdown",
   "metadata": {},
   "source": [
    "<a id='intro'></a>\n",
    "## Introduction\n",
    "\n",
    "### Dataset Description \n",
    "\n",
    "This is a dataset that provides information about more than 100,000 patients in Brazil who scheduled medical appointments in the period of time between late April to early June, categorizing them according to whether they ended up showing for their appointment or not.\n",
    "\n",
    "__Column names:__\n",
    "\n",
    "PatientId ------> The ID number of the patient.\n",
    "\n",
    "AppointmentID ------> The unique ID number of the appointment.\n",
    "\n",
    "Gender ------> The gender of the patient.\n",
    "\n",
    "ScheduledDay ------> The day of making the appointment.\n",
    "\n",
    "AppointmentDay ------> The actual appointment day.\n",
    "\n",
    "Age ------> The age of the patient.\n",
    "\n",
    "Neighbourhood ------> The neighbourhood the hospital is located in.\n",
    "\n",
    "Scholarship ------> Whether the patient is enrolled in Bolsa Família, a welfare program.\n",
    "\n",
    "Hipertension ------> Whether the patient is hypertensive.\n",
    "\n",
    "Diabetes ------> Whether the patient is diabetic.\n",
    "\n",
    "Alcoholism ------> Whether the patient is alcoholic.\n",
    "\n",
    "Handcap ------> Whether the patient is disabled, and if so, the severity of the disability.\n",
    "\n",
    "SMS_received ------> Whether the patient received an SMS reminder of their appointment.\n",
    "\n",
    "No-show ------> Whether they showed up for the appointment.\n",
    "\n",
    "### Question(s) for Analysis\n",
    "\n",
    "The central question posed in this dataset is: __\"What are the factors that _correlate_ with better chances of showing up?\"__ ; Show-up seems to be the dependent variable here. In order to try to answer this primary question, I asked the following:\n",
    "\n",
    "__1-__ Which gender tended to show up more?\n",
    "\n",
    "__2-__ Is a long time gap between the scheduling date and the appointment date associated with worse show-up rates? \n",
    "\n",
    "__3-__ What is the breakdown of age brackets of patients who showed up vs. those who didn't?\n",
    "\n",
    "__4-__ Is the hospital location a factor?\n",
    "\n",
    "__5-__ Are people more or less likely to show up if they are on welfare?\n",
    "\n",
    "__6-__ What is the relation between having chronic conditions and the tendency to show up?\n",
    "\n",
    "__7-__ Does the level of disability show a positive correlation with show-up?\n",
    "\n",
    "__8-__ Does receiving an SMS reminder help in improving show up rates for people who had a long time to go until the appointment?\n",
    "\n",
    "There are other questions that could also be asked, like the relation between age and having a chronic condition, or on which weekday do people tend to show up the most, but I'll refrain from asking those for the sake of not making this project excessively long."
   ]
  },
  {
   "cell_type": "code",
   "execution_count": 1,
   "metadata": {},
   "outputs": [],
   "source": [
    "import numpy as np\n",
    "import pandas as pd\n",
    "import matplotlib.pyplot as plt\n",
    "import matplotlib.colors as mcolors\n",
    "% matplotlib inline\n",
    "import seaborn as sns\n",
    "sns.set_style('darkgrid')"
   ]
  },
  {
   "cell_type": "code",
   "execution_count": 2,
   "metadata": {},
   "outputs": [
    {
     "name": "stdout",
     "output_type": "stream",
     "text": [
      "Requirement already up-to-date: pandas==0.25.0 in /opt/conda/lib/python3.6/site-packages (0.25.0)\r\n",
      "Requirement already satisfied, skipping upgrade: numpy>=1.13.3 in /opt/conda/lib/python3.6/site-packages (from pandas==0.25.0) (1.19.5)\r\n",
      "Requirement already satisfied, skipping upgrade: python-dateutil>=2.6.1 in /opt/conda/lib/python3.6/site-packages (from pandas==0.25.0) (2.6.1)\r\n",
      "Requirement already satisfied, skipping upgrade: pytz>=2017.2 in /opt/conda/lib/python3.6/site-packages (from pandas==0.25.0) (2017.3)\r\n",
      "Requirement already satisfied, skipping upgrade: six>=1.5 in /opt/conda/lib/python3.6/site-packages (from python-dateutil>=2.6.1->pandas==0.25.0) (1.11.0)\r\n"
     ]
    }
   ],
   "source": [
    "!pip install --upgrade pandas==0.25.0"
   ]
  },
  {
   "cell_type": "markdown",
   "metadata": {},
   "source": [
    "<a id='wrangling'></a>\n",
    "## Data Wrangling\n",
    "\n",
    "### General Properties"
   ]
  },
  {
   "cell_type": "code",
   "execution_count": 3,
   "metadata": {},
   "outputs": [
    {
     "data": {
      "text/html": [
       "<div>\n",
       "<style scoped>\n",
       "    .dataframe tbody tr th:only-of-type {\n",
       "        vertical-align: middle;\n",
       "    }\n",
       "\n",
       "    .dataframe tbody tr th {\n",
       "        vertical-align: top;\n",
       "    }\n",
       "\n",
       "    .dataframe thead th {\n",
       "        text-align: right;\n",
       "    }\n",
       "</style>\n",
       "<table border=\"1\" class=\"dataframe\">\n",
       "  <thead>\n",
       "    <tr style=\"text-align: right;\">\n",
       "      <th></th>\n",
       "      <th>PatientId</th>\n",
       "      <th>AppointmentID</th>\n",
       "      <th>Gender</th>\n",
       "      <th>ScheduledDay</th>\n",
       "      <th>AppointmentDay</th>\n",
       "      <th>Age</th>\n",
       "      <th>Neighbourhood</th>\n",
       "      <th>Scholarship</th>\n",
       "      <th>Hipertension</th>\n",
       "      <th>Diabetes</th>\n",
       "      <th>Alcoholism</th>\n",
       "      <th>Handcap</th>\n",
       "      <th>SMS_received</th>\n",
       "      <th>No-show</th>\n",
       "    </tr>\n",
       "  </thead>\n",
       "  <tbody>\n",
       "    <tr>\n",
       "      <th>0</th>\n",
       "      <td>2.987250e+13</td>\n",
       "      <td>5642903</td>\n",
       "      <td>F</td>\n",
       "      <td>2016-04-29T18:38:08Z</td>\n",
       "      <td>2016-04-29T00:00:00Z</td>\n",
       "      <td>62</td>\n",
       "      <td>JARDIM DA PENHA</td>\n",
       "      <td>0</td>\n",
       "      <td>1</td>\n",
       "      <td>0</td>\n",
       "      <td>0</td>\n",
       "      <td>0</td>\n",
       "      <td>0</td>\n",
       "      <td>No</td>\n",
       "    </tr>\n",
       "    <tr>\n",
       "      <th>1</th>\n",
       "      <td>5.589978e+14</td>\n",
       "      <td>5642503</td>\n",
       "      <td>M</td>\n",
       "      <td>2016-04-29T16:08:27Z</td>\n",
       "      <td>2016-04-29T00:00:00Z</td>\n",
       "      <td>56</td>\n",
       "      <td>JARDIM DA PENHA</td>\n",
       "      <td>0</td>\n",
       "      <td>0</td>\n",
       "      <td>0</td>\n",
       "      <td>0</td>\n",
       "      <td>0</td>\n",
       "      <td>0</td>\n",
       "      <td>No</td>\n",
       "    </tr>\n",
       "    <tr>\n",
       "      <th>2</th>\n",
       "      <td>4.262962e+12</td>\n",
       "      <td>5642549</td>\n",
       "      <td>F</td>\n",
       "      <td>2016-04-29T16:19:04Z</td>\n",
       "      <td>2016-04-29T00:00:00Z</td>\n",
       "      <td>62</td>\n",
       "      <td>MATA DA PRAIA</td>\n",
       "      <td>0</td>\n",
       "      <td>0</td>\n",
       "      <td>0</td>\n",
       "      <td>0</td>\n",
       "      <td>0</td>\n",
       "      <td>0</td>\n",
       "      <td>No</td>\n",
       "    </tr>\n",
       "    <tr>\n",
       "      <th>3</th>\n",
       "      <td>8.679512e+11</td>\n",
       "      <td>5642828</td>\n",
       "      <td>F</td>\n",
       "      <td>2016-04-29T17:29:31Z</td>\n",
       "      <td>2016-04-29T00:00:00Z</td>\n",
       "      <td>8</td>\n",
       "      <td>PONTAL DE CAMBURI</td>\n",
       "      <td>0</td>\n",
       "      <td>0</td>\n",
       "      <td>0</td>\n",
       "      <td>0</td>\n",
       "      <td>0</td>\n",
       "      <td>0</td>\n",
       "      <td>No</td>\n",
       "    </tr>\n",
       "    <tr>\n",
       "      <th>4</th>\n",
       "      <td>8.841186e+12</td>\n",
       "      <td>5642494</td>\n",
       "      <td>F</td>\n",
       "      <td>2016-04-29T16:07:23Z</td>\n",
       "      <td>2016-04-29T00:00:00Z</td>\n",
       "      <td>56</td>\n",
       "      <td>JARDIM DA PENHA</td>\n",
       "      <td>0</td>\n",
       "      <td>1</td>\n",
       "      <td>1</td>\n",
       "      <td>0</td>\n",
       "      <td>0</td>\n",
       "      <td>0</td>\n",
       "      <td>No</td>\n",
       "    </tr>\n",
       "    <tr>\n",
       "      <th>5</th>\n",
       "      <td>9.598513e+13</td>\n",
       "      <td>5626772</td>\n",
       "      <td>F</td>\n",
       "      <td>2016-04-27T08:36:51Z</td>\n",
       "      <td>2016-04-29T00:00:00Z</td>\n",
       "      <td>76</td>\n",
       "      <td>REPÚBLICA</td>\n",
       "      <td>0</td>\n",
       "      <td>1</td>\n",
       "      <td>0</td>\n",
       "      <td>0</td>\n",
       "      <td>0</td>\n",
       "      <td>0</td>\n",
       "      <td>No</td>\n",
       "    </tr>\n",
       "    <tr>\n",
       "      <th>6</th>\n",
       "      <td>7.336882e+14</td>\n",
       "      <td>5630279</td>\n",
       "      <td>F</td>\n",
       "      <td>2016-04-27T15:05:12Z</td>\n",
       "      <td>2016-04-29T00:00:00Z</td>\n",
       "      <td>23</td>\n",
       "      <td>GOIABEIRAS</td>\n",
       "      <td>0</td>\n",
       "      <td>0</td>\n",
       "      <td>0</td>\n",
       "      <td>0</td>\n",
       "      <td>0</td>\n",
       "      <td>0</td>\n",
       "      <td>Yes</td>\n",
       "    </tr>\n",
       "    <tr>\n",
       "      <th>7</th>\n",
       "      <td>3.449833e+12</td>\n",
       "      <td>5630575</td>\n",
       "      <td>F</td>\n",
       "      <td>2016-04-27T15:39:58Z</td>\n",
       "      <td>2016-04-29T00:00:00Z</td>\n",
       "      <td>39</td>\n",
       "      <td>GOIABEIRAS</td>\n",
       "      <td>0</td>\n",
       "      <td>0</td>\n",
       "      <td>0</td>\n",
       "      <td>0</td>\n",
       "      <td>0</td>\n",
       "      <td>0</td>\n",
       "      <td>Yes</td>\n",
       "    </tr>\n",
       "    <tr>\n",
       "      <th>8</th>\n",
       "      <td>5.639473e+13</td>\n",
       "      <td>5638447</td>\n",
       "      <td>F</td>\n",
       "      <td>2016-04-29T08:02:16Z</td>\n",
       "      <td>2016-04-29T00:00:00Z</td>\n",
       "      <td>21</td>\n",
       "      <td>ANDORINHAS</td>\n",
       "      <td>0</td>\n",
       "      <td>0</td>\n",
       "      <td>0</td>\n",
       "      <td>0</td>\n",
       "      <td>0</td>\n",
       "      <td>0</td>\n",
       "      <td>No</td>\n",
       "    </tr>\n",
       "    <tr>\n",
       "      <th>9</th>\n",
       "      <td>7.812456e+13</td>\n",
       "      <td>5629123</td>\n",
       "      <td>F</td>\n",
       "      <td>2016-04-27T12:48:25Z</td>\n",
       "      <td>2016-04-29T00:00:00Z</td>\n",
       "      <td>19</td>\n",
       "      <td>CONQUISTA</td>\n",
       "      <td>0</td>\n",
       "      <td>0</td>\n",
       "      <td>0</td>\n",
       "      <td>0</td>\n",
       "      <td>0</td>\n",
       "      <td>0</td>\n",
       "      <td>No</td>\n",
       "    </tr>\n",
       "    <tr>\n",
       "      <th>10</th>\n",
       "      <td>7.345362e+14</td>\n",
       "      <td>5630213</td>\n",
       "      <td>F</td>\n",
       "      <td>2016-04-27T14:58:11Z</td>\n",
       "      <td>2016-04-29T00:00:00Z</td>\n",
       "      <td>30</td>\n",
       "      <td>NOVA PALESTINA</td>\n",
       "      <td>0</td>\n",
       "      <td>0</td>\n",
       "      <td>0</td>\n",
       "      <td>0</td>\n",
       "      <td>0</td>\n",
       "      <td>0</td>\n",
       "      <td>No</td>\n",
       "    </tr>\n",
       "    <tr>\n",
       "      <th>11</th>\n",
       "      <td>7.542951e+12</td>\n",
       "      <td>5620163</td>\n",
       "      <td>M</td>\n",
       "      <td>2016-04-26T08:44:12Z</td>\n",
       "      <td>2016-04-29T00:00:00Z</td>\n",
       "      <td>29</td>\n",
       "      <td>NOVA PALESTINA</td>\n",
       "      <td>0</td>\n",
       "      <td>0</td>\n",
       "      <td>0</td>\n",
       "      <td>0</td>\n",
       "      <td>0</td>\n",
       "      <td>1</td>\n",
       "      <td>Yes</td>\n",
       "    </tr>\n",
       "    <tr>\n",
       "      <th>12</th>\n",
       "      <td>5.666548e+14</td>\n",
       "      <td>5634718</td>\n",
       "      <td>F</td>\n",
       "      <td>2016-04-28T11:33:51Z</td>\n",
       "      <td>2016-04-29T00:00:00Z</td>\n",
       "      <td>22</td>\n",
       "      <td>NOVA PALESTINA</td>\n",
       "      <td>1</td>\n",
       "      <td>0</td>\n",
       "      <td>0</td>\n",
       "      <td>0</td>\n",
       "      <td>0</td>\n",
       "      <td>0</td>\n",
       "      <td>No</td>\n",
       "    </tr>\n",
       "    <tr>\n",
       "      <th>13</th>\n",
       "      <td>9.113946e+14</td>\n",
       "      <td>5636249</td>\n",
       "      <td>M</td>\n",
       "      <td>2016-04-28T14:52:07Z</td>\n",
       "      <td>2016-04-29T00:00:00Z</td>\n",
       "      <td>28</td>\n",
       "      <td>NOVA PALESTINA</td>\n",
       "      <td>0</td>\n",
       "      <td>0</td>\n",
       "      <td>0</td>\n",
       "      <td>0</td>\n",
       "      <td>0</td>\n",
       "      <td>0</td>\n",
       "      <td>No</td>\n",
       "    </tr>\n",
       "    <tr>\n",
       "      <th>14</th>\n",
       "      <td>9.988472e+13</td>\n",
       "      <td>5633951</td>\n",
       "      <td>F</td>\n",
       "      <td>2016-04-28T10:06:24Z</td>\n",
       "      <td>2016-04-29T00:00:00Z</td>\n",
       "      <td>54</td>\n",
       "      <td>NOVA PALESTINA</td>\n",
       "      <td>0</td>\n",
       "      <td>0</td>\n",
       "      <td>0</td>\n",
       "      <td>0</td>\n",
       "      <td>0</td>\n",
       "      <td>0</td>\n",
       "      <td>No</td>\n",
       "    </tr>\n",
       "    <tr>\n",
       "      <th>15</th>\n",
       "      <td>9.994839e+10</td>\n",
       "      <td>5620206</td>\n",
       "      <td>F</td>\n",
       "      <td>2016-04-26T08:47:27Z</td>\n",
       "      <td>2016-04-29T00:00:00Z</td>\n",
       "      <td>15</td>\n",
       "      <td>NOVA PALESTINA</td>\n",
       "      <td>0</td>\n",
       "      <td>0</td>\n",
       "      <td>0</td>\n",
       "      <td>0</td>\n",
       "      <td>0</td>\n",
       "      <td>1</td>\n",
       "      <td>No</td>\n",
       "    </tr>\n",
       "    <tr>\n",
       "      <th>16</th>\n",
       "      <td>8.457439e+13</td>\n",
       "      <td>5633121</td>\n",
       "      <td>M</td>\n",
       "      <td>2016-04-28T08:51:47Z</td>\n",
       "      <td>2016-04-29T00:00:00Z</td>\n",
       "      <td>50</td>\n",
       "      <td>NOVA PALESTINA</td>\n",
       "      <td>0</td>\n",
       "      <td>0</td>\n",
       "      <td>0</td>\n",
       "      <td>0</td>\n",
       "      <td>0</td>\n",
       "      <td>0</td>\n",
       "      <td>No</td>\n",
       "    </tr>\n",
       "    <tr>\n",
       "      <th>17</th>\n",
       "      <td>1.479497e+13</td>\n",
       "      <td>5633460</td>\n",
       "      <td>F</td>\n",
       "      <td>2016-04-28T09:28:57Z</td>\n",
       "      <td>2016-04-29T00:00:00Z</td>\n",
       "      <td>40</td>\n",
       "      <td>CONQUISTA</td>\n",
       "      <td>1</td>\n",
       "      <td>0</td>\n",
       "      <td>0</td>\n",
       "      <td>0</td>\n",
       "      <td>0</td>\n",
       "      <td>0</td>\n",
       "      <td>Yes</td>\n",
       "    </tr>\n",
       "    <tr>\n",
       "      <th>18</th>\n",
       "      <td>1.713538e+13</td>\n",
       "      <td>5621836</td>\n",
       "      <td>F</td>\n",
       "      <td>2016-04-26T10:54:18Z</td>\n",
       "      <td>2016-04-29T00:00:00Z</td>\n",
       "      <td>30</td>\n",
       "      <td>NOVA PALESTINA</td>\n",
       "      <td>1</td>\n",
       "      <td>0</td>\n",
       "      <td>0</td>\n",
       "      <td>0</td>\n",
       "      <td>0</td>\n",
       "      <td>1</td>\n",
       "      <td>No</td>\n",
       "    </tr>\n",
       "    <tr>\n",
       "      <th>19</th>\n",
       "      <td>7.223289e+12</td>\n",
       "      <td>5640433</td>\n",
       "      <td>F</td>\n",
       "      <td>2016-04-29T10:43:14Z</td>\n",
       "      <td>2016-04-29T00:00:00Z</td>\n",
       "      <td>46</td>\n",
       "      <td>DA PENHA</td>\n",
       "      <td>0</td>\n",
       "      <td>0</td>\n",
       "      <td>0</td>\n",
       "      <td>0</td>\n",
       "      <td>0</td>\n",
       "      <td>0</td>\n",
       "      <td>No</td>\n",
       "    </tr>\n",
       "  </tbody>\n",
       "</table>\n",
       "</div>"
      ],
      "text/plain": [
       "       PatientId  AppointmentID Gender          ScheduledDay  \\\n",
       "0   2.987250e+13        5642903      F  2016-04-29T18:38:08Z   \n",
       "1   5.589978e+14        5642503      M  2016-04-29T16:08:27Z   \n",
       "2   4.262962e+12        5642549      F  2016-04-29T16:19:04Z   \n",
       "3   8.679512e+11        5642828      F  2016-04-29T17:29:31Z   \n",
       "4   8.841186e+12        5642494      F  2016-04-29T16:07:23Z   \n",
       "5   9.598513e+13        5626772      F  2016-04-27T08:36:51Z   \n",
       "6   7.336882e+14        5630279      F  2016-04-27T15:05:12Z   \n",
       "7   3.449833e+12        5630575      F  2016-04-27T15:39:58Z   \n",
       "8   5.639473e+13        5638447      F  2016-04-29T08:02:16Z   \n",
       "9   7.812456e+13        5629123      F  2016-04-27T12:48:25Z   \n",
       "10  7.345362e+14        5630213      F  2016-04-27T14:58:11Z   \n",
       "11  7.542951e+12        5620163      M  2016-04-26T08:44:12Z   \n",
       "12  5.666548e+14        5634718      F  2016-04-28T11:33:51Z   \n",
       "13  9.113946e+14        5636249      M  2016-04-28T14:52:07Z   \n",
       "14  9.988472e+13        5633951      F  2016-04-28T10:06:24Z   \n",
       "15  9.994839e+10        5620206      F  2016-04-26T08:47:27Z   \n",
       "16  8.457439e+13        5633121      M  2016-04-28T08:51:47Z   \n",
       "17  1.479497e+13        5633460      F  2016-04-28T09:28:57Z   \n",
       "18  1.713538e+13        5621836      F  2016-04-26T10:54:18Z   \n",
       "19  7.223289e+12        5640433      F  2016-04-29T10:43:14Z   \n",
       "\n",
       "          AppointmentDay  Age      Neighbourhood  Scholarship  Hipertension  \\\n",
       "0   2016-04-29T00:00:00Z   62    JARDIM DA PENHA            0             1   \n",
       "1   2016-04-29T00:00:00Z   56    JARDIM DA PENHA            0             0   \n",
       "2   2016-04-29T00:00:00Z   62      MATA DA PRAIA            0             0   \n",
       "3   2016-04-29T00:00:00Z    8  PONTAL DE CAMBURI            0             0   \n",
       "4   2016-04-29T00:00:00Z   56    JARDIM DA PENHA            0             1   \n",
       "5   2016-04-29T00:00:00Z   76          REPÚBLICA            0             1   \n",
       "6   2016-04-29T00:00:00Z   23         GOIABEIRAS            0             0   \n",
       "7   2016-04-29T00:00:00Z   39         GOIABEIRAS            0             0   \n",
       "8   2016-04-29T00:00:00Z   21         ANDORINHAS            0             0   \n",
       "9   2016-04-29T00:00:00Z   19          CONQUISTA            0             0   \n",
       "10  2016-04-29T00:00:00Z   30     NOVA PALESTINA            0             0   \n",
       "11  2016-04-29T00:00:00Z   29     NOVA PALESTINA            0             0   \n",
       "12  2016-04-29T00:00:00Z   22     NOVA PALESTINA            1             0   \n",
       "13  2016-04-29T00:00:00Z   28     NOVA PALESTINA            0             0   \n",
       "14  2016-04-29T00:00:00Z   54     NOVA PALESTINA            0             0   \n",
       "15  2016-04-29T00:00:00Z   15     NOVA PALESTINA            0             0   \n",
       "16  2016-04-29T00:00:00Z   50     NOVA PALESTINA            0             0   \n",
       "17  2016-04-29T00:00:00Z   40          CONQUISTA            1             0   \n",
       "18  2016-04-29T00:00:00Z   30     NOVA PALESTINA            1             0   \n",
       "19  2016-04-29T00:00:00Z   46           DA PENHA            0             0   \n",
       "\n",
       "    Diabetes  Alcoholism  Handcap  SMS_received No-show  \n",
       "0          0           0        0             0      No  \n",
       "1          0           0        0             0      No  \n",
       "2          0           0        0             0      No  \n",
       "3          0           0        0             0      No  \n",
       "4          1           0        0             0      No  \n",
       "5          0           0        0             0      No  \n",
       "6          0           0        0             0     Yes  \n",
       "7          0           0        0             0     Yes  \n",
       "8          0           0        0             0      No  \n",
       "9          0           0        0             0      No  \n",
       "10         0           0        0             0      No  \n",
       "11         0           0        0             1     Yes  \n",
       "12         0           0        0             0      No  \n",
       "13         0           0        0             0      No  \n",
       "14         0           0        0             0      No  \n",
       "15         0           0        0             1      No  \n",
       "16         0           0        0             0      No  \n",
       "17         0           0        0             0     Yes  \n",
       "18         0           0        0             1      No  \n",
       "19         0           0        0             0      No  "
      ]
     },
     "execution_count": 3,
     "metadata": {},
     "output_type": "execute_result"
    }
   ],
   "source": [
    "df = pd.read_csv('noshowappointments-kagglev2-may-2016.csv')\n",
    "df.head(20)"
   ]
  },
  {
   "cell_type": "code",
   "execution_count": 4,
   "metadata": {},
   "outputs": [
    {
     "data": {
      "text/plain": [
       "(110527, 14)"
      ]
     },
     "execution_count": 4,
     "metadata": {},
     "output_type": "execute_result"
    }
   ],
   "source": [
    "df.shape"
   ]
  },
  {
   "cell_type": "code",
   "execution_count": 5,
   "metadata": {},
   "outputs": [
    {
     "name": "stdout",
     "output_type": "stream",
     "text": [
      "<class 'pandas.core.frame.DataFrame'>\n",
      "RangeIndex: 110527 entries, 0 to 110526\n",
      "Data columns (total 14 columns):\n",
      "PatientId         110527 non-null float64\n",
      "AppointmentID     110527 non-null int64\n",
      "Gender            110527 non-null object\n",
      "ScheduledDay      110527 non-null object\n",
      "AppointmentDay    110527 non-null object\n",
      "Age               110527 non-null int64\n",
      "Neighbourhood     110527 non-null object\n",
      "Scholarship       110527 non-null int64\n",
      "Hipertension      110527 non-null int64\n",
      "Diabetes          110527 non-null int64\n",
      "Alcoholism        110527 non-null int64\n",
      "Handcap           110527 non-null int64\n",
      "SMS_received      110527 non-null int64\n",
      "No-show           110527 non-null object\n",
      "dtypes: float64(1), int64(8), object(5)\n",
      "memory usage: 11.8+ MB\n"
     ]
    }
   ],
   "source": [
    "df.info()"
   ]
  },
  {
   "cell_type": "code",
   "execution_count": 6,
   "metadata": {},
   "outputs": [
    {
     "data": {
      "text/plain": [
       "0"
      ]
     },
     "execution_count": 6,
     "metadata": {},
     "output_type": "execute_result"
    }
   ],
   "source": [
    "df.duplicated().sum()"
   ]
  },
  {
   "cell_type": "code",
   "execution_count": 7,
   "metadata": {},
   "outputs": [
    {
     "data": {
      "text/html": [
       "<div>\n",
       "<style scoped>\n",
       "    .dataframe tbody tr th:only-of-type {\n",
       "        vertical-align: middle;\n",
       "    }\n",
       "\n",
       "    .dataframe tbody tr th {\n",
       "        vertical-align: top;\n",
       "    }\n",
       "\n",
       "    .dataframe thead th {\n",
       "        text-align: right;\n",
       "    }\n",
       "</style>\n",
       "<table border=\"1\" class=\"dataframe\">\n",
       "  <thead>\n",
       "    <tr style=\"text-align: right;\">\n",
       "      <th></th>\n",
       "      <th>PatientId</th>\n",
       "      <th>AppointmentID</th>\n",
       "      <th>Age</th>\n",
       "      <th>Scholarship</th>\n",
       "      <th>Hipertension</th>\n",
       "      <th>Diabetes</th>\n",
       "      <th>Alcoholism</th>\n",
       "      <th>Handcap</th>\n",
       "      <th>SMS_received</th>\n",
       "    </tr>\n",
       "  </thead>\n",
       "  <tbody>\n",
       "    <tr>\n",
       "      <th>count</th>\n",
       "      <td>1.105270e+05</td>\n",
       "      <td>1.105270e+05</td>\n",
       "      <td>110527.000000</td>\n",
       "      <td>110527.000000</td>\n",
       "      <td>110527.000000</td>\n",
       "      <td>110527.000000</td>\n",
       "      <td>110527.000000</td>\n",
       "      <td>110527.000000</td>\n",
       "      <td>110527.000000</td>\n",
       "    </tr>\n",
       "    <tr>\n",
       "      <th>mean</th>\n",
       "      <td>1.474963e+14</td>\n",
       "      <td>5.675305e+06</td>\n",
       "      <td>37.088874</td>\n",
       "      <td>0.098266</td>\n",
       "      <td>0.197246</td>\n",
       "      <td>0.071865</td>\n",
       "      <td>0.030400</td>\n",
       "      <td>0.022248</td>\n",
       "      <td>0.321026</td>\n",
       "    </tr>\n",
       "    <tr>\n",
       "      <th>std</th>\n",
       "      <td>2.560949e+14</td>\n",
       "      <td>7.129575e+04</td>\n",
       "      <td>23.110205</td>\n",
       "      <td>0.297675</td>\n",
       "      <td>0.397921</td>\n",
       "      <td>0.258265</td>\n",
       "      <td>0.171686</td>\n",
       "      <td>0.161543</td>\n",
       "      <td>0.466873</td>\n",
       "    </tr>\n",
       "    <tr>\n",
       "      <th>min</th>\n",
       "      <td>3.921784e+04</td>\n",
       "      <td>5.030230e+06</td>\n",
       "      <td>-1.000000</td>\n",
       "      <td>0.000000</td>\n",
       "      <td>0.000000</td>\n",
       "      <td>0.000000</td>\n",
       "      <td>0.000000</td>\n",
       "      <td>0.000000</td>\n",
       "      <td>0.000000</td>\n",
       "    </tr>\n",
       "    <tr>\n",
       "      <th>25%</th>\n",
       "      <td>4.172614e+12</td>\n",
       "      <td>5.640286e+06</td>\n",
       "      <td>18.000000</td>\n",
       "      <td>0.000000</td>\n",
       "      <td>0.000000</td>\n",
       "      <td>0.000000</td>\n",
       "      <td>0.000000</td>\n",
       "      <td>0.000000</td>\n",
       "      <td>0.000000</td>\n",
       "    </tr>\n",
       "    <tr>\n",
       "      <th>50%</th>\n",
       "      <td>3.173184e+13</td>\n",
       "      <td>5.680573e+06</td>\n",
       "      <td>37.000000</td>\n",
       "      <td>0.000000</td>\n",
       "      <td>0.000000</td>\n",
       "      <td>0.000000</td>\n",
       "      <td>0.000000</td>\n",
       "      <td>0.000000</td>\n",
       "      <td>0.000000</td>\n",
       "    </tr>\n",
       "    <tr>\n",
       "      <th>75%</th>\n",
       "      <td>9.439172e+13</td>\n",
       "      <td>5.725524e+06</td>\n",
       "      <td>55.000000</td>\n",
       "      <td>0.000000</td>\n",
       "      <td>0.000000</td>\n",
       "      <td>0.000000</td>\n",
       "      <td>0.000000</td>\n",
       "      <td>0.000000</td>\n",
       "      <td>1.000000</td>\n",
       "    </tr>\n",
       "    <tr>\n",
       "      <th>max</th>\n",
       "      <td>9.999816e+14</td>\n",
       "      <td>5.790484e+06</td>\n",
       "      <td>115.000000</td>\n",
       "      <td>1.000000</td>\n",
       "      <td>1.000000</td>\n",
       "      <td>1.000000</td>\n",
       "      <td>1.000000</td>\n",
       "      <td>4.000000</td>\n",
       "      <td>1.000000</td>\n",
       "    </tr>\n",
       "  </tbody>\n",
       "</table>\n",
       "</div>"
      ],
      "text/plain": [
       "          PatientId  AppointmentID            Age    Scholarship  \\\n",
       "count  1.105270e+05   1.105270e+05  110527.000000  110527.000000   \n",
       "mean   1.474963e+14   5.675305e+06      37.088874       0.098266   \n",
       "std    2.560949e+14   7.129575e+04      23.110205       0.297675   \n",
       "min    3.921784e+04   5.030230e+06      -1.000000       0.000000   \n",
       "25%    4.172614e+12   5.640286e+06      18.000000       0.000000   \n",
       "50%    3.173184e+13   5.680573e+06      37.000000       0.000000   \n",
       "75%    9.439172e+13   5.725524e+06      55.000000       0.000000   \n",
       "max    9.999816e+14   5.790484e+06     115.000000       1.000000   \n",
       "\n",
       "        Hipertension       Diabetes     Alcoholism        Handcap  \\\n",
       "count  110527.000000  110527.000000  110527.000000  110527.000000   \n",
       "mean        0.197246       0.071865       0.030400       0.022248   \n",
       "std         0.397921       0.258265       0.171686       0.161543   \n",
       "min         0.000000       0.000000       0.000000       0.000000   \n",
       "25%         0.000000       0.000000       0.000000       0.000000   \n",
       "50%         0.000000       0.000000       0.000000       0.000000   \n",
       "75%         0.000000       0.000000       0.000000       0.000000   \n",
       "max         1.000000       1.000000       1.000000       4.000000   \n",
       "\n",
       "        SMS_received  \n",
       "count  110527.000000  \n",
       "mean        0.321026  \n",
       "std         0.466873  \n",
       "min         0.000000  \n",
       "25%         0.000000  \n",
       "50%         0.000000  \n",
       "75%         1.000000  \n",
       "max         1.000000  "
      ]
     },
     "execution_count": 7,
     "metadata": {},
     "output_type": "execute_result"
    }
   ],
   "source": [
    "df.describe()"
   ]
  },
  {
   "cell_type": "code",
   "execution_count": 8,
   "metadata": {},
   "outputs": [
    {
     "data": {
      "text/html": [
       "<div>\n",
       "<style scoped>\n",
       "    .dataframe tbody tr th:only-of-type {\n",
       "        vertical-align: middle;\n",
       "    }\n",
       "\n",
       "    .dataframe tbody tr th {\n",
       "        vertical-align: top;\n",
       "    }\n",
       "\n",
       "    .dataframe thead th {\n",
       "        text-align: right;\n",
       "    }\n",
       "</style>\n",
       "<table border=\"1\" class=\"dataframe\">\n",
       "  <thead>\n",
       "    <tr style=\"text-align: right;\">\n",
       "      <th></th>\n",
       "      <th>PatientId</th>\n",
       "      <th>AppointmentID</th>\n",
       "      <th>Gender</th>\n",
       "      <th>ScheduledDay</th>\n",
       "      <th>AppointmentDay</th>\n",
       "      <th>Age</th>\n",
       "      <th>Neighbourhood</th>\n",
       "      <th>Scholarship</th>\n",
       "      <th>Hipertension</th>\n",
       "      <th>Diabetes</th>\n",
       "      <th>Alcoholism</th>\n",
       "      <th>Handcap</th>\n",
       "      <th>SMS_received</th>\n",
       "      <th>No-show</th>\n",
       "    </tr>\n",
       "  </thead>\n",
       "  <tbody>\n",
       "    <tr>\n",
       "      <th>99832</th>\n",
       "      <td>4.659432e+14</td>\n",
       "      <td>5775010</td>\n",
       "      <td>F</td>\n",
       "      <td>2016-06-06T08:58:13Z</td>\n",
       "      <td>2016-06-06T00:00:00Z</td>\n",
       "      <td>-1</td>\n",
       "      <td>ROMÃO</td>\n",
       "      <td>0</td>\n",
       "      <td>0</td>\n",
       "      <td>0</td>\n",
       "      <td>0</td>\n",
       "      <td>0</td>\n",
       "      <td>0</td>\n",
       "      <td>No</td>\n",
       "    </tr>\n",
       "  </tbody>\n",
       "</table>\n",
       "</div>"
      ],
      "text/plain": [
       "          PatientId  AppointmentID Gender          ScheduledDay  \\\n",
       "99832  4.659432e+14        5775010      F  2016-06-06T08:58:13Z   \n",
       "\n",
       "             AppointmentDay  Age Neighbourhood  Scholarship  Hipertension  \\\n",
       "99832  2016-06-06T00:00:00Z   -1         ROMÃO            0             0   \n",
       "\n",
       "       Diabetes  Alcoholism  Handcap  SMS_received No-show  \n",
       "99832         0           0        0             0      No  "
      ]
     },
     "execution_count": 8,
     "metadata": {},
     "output_type": "execute_result"
    }
   ],
   "source": [
    "df[df['Age'] == -1]"
   ]
  },
  {
   "cell_type": "code",
   "execution_count": 9,
   "metadata": {},
   "outputs": [
    {
     "data": {
      "text/plain": [
       "PatientId          62299\n",
       "AppointmentID     110527\n",
       "Gender                 2\n",
       "ScheduledDay      103549\n",
       "AppointmentDay        27\n",
       "Age                  104\n",
       "Neighbourhood         81\n",
       "Scholarship            2\n",
       "Hipertension           2\n",
       "Diabetes               2\n",
       "Alcoholism             2\n",
       "Handcap                5\n",
       "SMS_received           2\n",
       "No-show                2\n",
       "dtype: int64"
      ]
     },
     "execution_count": 9,
     "metadata": {},
     "output_type": "execute_result"
    }
   ],
   "source": [
    "df.nunique()"
   ]
  },
  {
   "cell_type": "code",
   "execution_count": 10,
   "metadata": {},
   "outputs": [
    {
     "name": "stdout",
     "output_type": "stream",
     "text": [
      "['F' 'M']\n",
      "[0 1]\n",
      "[1 0]\n",
      "[0 1]\n",
      "[0 1]\n",
      "[0 1 2 3 4]\n",
      "[0 1]\n",
      "['No' 'Yes']\n"
     ]
    }
   ],
   "source": [
    "unique = ['Gender', 'Scholarship', 'Hipertension', 'Diabetes', 'Alcoholism', 'Handcap', 'SMS_received', 'No-show']\n",
    "\n",
    "for col in unique:\n",
    "    print(df[col].unique())"
   ]
  },
  {
   "cell_type": "markdown",
   "metadata": {},
   "source": [
    "__Assessment:__\n",
    "\n",
    "1- The dataset is 110,527 entries long, with 14 columns containing information about each row.\n",
    "\n",
    "2- There are no missing values or duplicate rows, but there is a row where the age is listed as -1. \n",
    "Maybe it's a stand-in for a missing age value, or even a typo.\n",
    "\n",
    "3- There is some work that needs to be done on datatypes to make them more appropriate, like converting dates to datetime, and converting data types to string for any column containing single digit data, as the numbers in this case are\n",
    "not meant to be quantitative values, and might as well just be words.\n",
    "\n",
    "4- The dataset actually contains information about 110,527 __appointments__ , but only 62299 patients.\n",
    "This means that some patients have appeared more than once.\n",
    "\n",
    "5- The columns that have value counts of 2 answer Yes/No questions using 0 and 1 values, and I think in the case of the\n",
    "'Handcap' column use a range from 0 to 4 to indicate the severity of a disability from 'No Disabilty' to 'Severely Disabled'.\n",
    "\n",
    "6- The use of 'F' and 'M' for gender is consistent throughout the whole dataset. This makes it so that when filtering I can get the correct number of entries using only 1 certain character. \n",
    "\n",
    "7- Lastly, there are some column names that are worth fixing or renaming all together for better look and use. I also believe it's better if column names are standardized to be all in lower case, with an underscore seperating words."
   ]
  },
  {
   "cell_type": "markdown",
   "metadata": {},
   "source": [
    "\n",
    "### Data Cleaning\n",
    " "
   ]
  },
  {
   "cell_type": "code",
   "execution_count": 11,
   "metadata": {},
   "outputs": [
    {
     "data": {
      "text/html": [
       "<div>\n",
       "<style scoped>\n",
       "    .dataframe tbody tr th:only-of-type {\n",
       "        vertical-align: middle;\n",
       "    }\n",
       "\n",
       "    .dataframe tbody tr th {\n",
       "        vertical-align: top;\n",
       "    }\n",
       "\n",
       "    .dataframe thead th {\n",
       "        text-align: right;\n",
       "    }\n",
       "</style>\n",
       "<table border=\"1\" class=\"dataframe\">\n",
       "  <thead>\n",
       "    <tr style=\"text-align: right;\">\n",
       "      <th></th>\n",
       "      <th>Gender</th>\n",
       "      <th>ScheduledDay</th>\n",
       "      <th>AppointmentDay</th>\n",
       "      <th>Age</th>\n",
       "      <th>Neighbourhood</th>\n",
       "      <th>Scholarship</th>\n",
       "      <th>Hipertension</th>\n",
       "      <th>Diabetes</th>\n",
       "      <th>Alcoholism</th>\n",
       "      <th>Handcap</th>\n",
       "      <th>SMS_received</th>\n",
       "      <th>No-show</th>\n",
       "    </tr>\n",
       "  </thead>\n",
       "  <tbody>\n",
       "  </tbody>\n",
       "</table>\n",
       "</div>"
      ],
      "text/plain": [
       "Empty DataFrame\n",
       "Columns: [Gender, ScheduledDay, AppointmentDay, Age, Neighbourhood, Scholarship, Hipertension, Diabetes, Alcoholism, Handcap, SMS_received, No-show]\n",
       "Index: []"
      ]
     },
     "execution_count": 11,
     "metadata": {},
     "output_type": "execute_result"
    }
   ],
   "source": [
    "df.drop(['PatientId','AppointmentID'], axis=1, inplace=True)\n",
    "df.drop(99832, axis=0, inplace=True)\n",
    "\n",
    "df[df['Age'] == -1]"
   ]
  },
  {
   "cell_type": "markdown",
   "metadata": {},
   "source": [
    "__I dropped the 'PatientID' column because I didn't think I would need it.\n",
    "While I noticed that there were some patients who appeared in the database more than once,\n",
    "I concluded that it's every instance of an _appointment_ that I should be thinking in terms of to answer the particular question I posed earlier, regardless of the identity of the patient who made it.__\n",
    "\n",
    "__I dropped the 'AppointmentID' because I won't be using it in my analysis, as it is specific to the appointment.__\n",
    "\n",
    "__I also dropped the row with the nonsensical -1 age value, as it is only one row and wouldn't affect my analysis.\n",
    "I actually looked that patient up via patient ID in a seperate notebook, and they only ever come up once, so there was no way to find out and fill in the accurate age from another row.__"
   ]
  },
  {
   "cell_type": "code",
   "execution_count": 12,
   "metadata": {},
   "outputs": [
    {
     "data": {
      "text/html": [
       "<div>\n",
       "<style scoped>\n",
       "    .dataframe tbody tr th:only-of-type {\n",
       "        vertical-align: middle;\n",
       "    }\n",
       "\n",
       "    .dataframe tbody tr th {\n",
       "        vertical-align: top;\n",
       "    }\n",
       "\n",
       "    .dataframe thead th {\n",
       "        text-align: right;\n",
       "    }\n",
       "</style>\n",
       "<table border=\"1\" class=\"dataframe\">\n",
       "  <thead>\n",
       "    <tr style=\"text-align: right;\">\n",
       "      <th></th>\n",
       "      <th>gender</th>\n",
       "      <th>scheduled_day</th>\n",
       "      <th>appointment_day</th>\n",
       "      <th>age</th>\n",
       "      <th>neighbourhood</th>\n",
       "      <th>on_welfare</th>\n",
       "      <th>hypertension</th>\n",
       "      <th>diabetes</th>\n",
       "      <th>alcoholism</th>\n",
       "      <th>handicap</th>\n",
       "      <th>sms_received</th>\n",
       "      <th>showed_up</th>\n",
       "    </tr>\n",
       "  </thead>\n",
       "  <tbody>\n",
       "    <tr>\n",
       "      <th>0</th>\n",
       "      <td>F</td>\n",
       "      <td>2016-04-29T18:38:08Z</td>\n",
       "      <td>2016-04-29T00:00:00Z</td>\n",
       "      <td>62</td>\n",
       "      <td>JARDIM DA PENHA</td>\n",
       "      <td>0</td>\n",
       "      <td>1</td>\n",
       "      <td>0</td>\n",
       "      <td>0</td>\n",
       "      <td>0</td>\n",
       "      <td>0</td>\n",
       "      <td>No</td>\n",
       "    </tr>\n",
       "  </tbody>\n",
       "</table>\n",
       "</div>"
      ],
      "text/plain": [
       "  gender         scheduled_day       appointment_day  age    neighbourhood  \\\n",
       "0      F  2016-04-29T18:38:08Z  2016-04-29T00:00:00Z   62  JARDIM DA PENHA   \n",
       "\n",
       "   on_welfare  hypertension  diabetes  alcoholism  handicap  sms_received  \\\n",
       "0           0             1         0           0         0             0   \n",
       "\n",
       "  showed_up  \n",
       "0        No  "
      ]
     },
     "execution_count": 12,
     "metadata": {},
     "output_type": "execute_result"
    }
   ],
   "source": [
    "df.rename(columns = lambda x: x.strip().lower(), inplace=True)\n",
    "\n",
    "df.rename(columns = {'scheduledday' : 'scheduled_day',\n",
    "                     'appointmentday' : 'appointment_day',\n",
    "                     'scholarship' : 'on_welfare',\n",
    "                     'hipertension' : 'hypertension',\n",
    "                     'handcap' : 'handicap',\n",
    "                     'no-show' : 'showed_up'}, inplace=True)\n",
    "\n",
    "df.head(1)"
   ]
  },
  {
   "cell_type": "markdown",
   "metadata": {},
   "source": [
    "__Here I applied some changed to column titles, like make them all lower case, and renaming without any typos and with underscores.__\n",
    "\n",
    "__I also changed the 'scholarship' column to 'on_welfare' to make it clear that the dataset refers to a welfare program, as opposed to an educational scholarship.__\n",
    "\n",
    "__Most importantly, I changed the 'no-show' column name to 'showed_up', in order to make the Yes/No answers less confusing to myself and others. I will follow this up with flipping the Yes and No values in the next step.__"
   ]
  },
  {
   "cell_type": "code",
   "execution_count": 13,
   "metadata": {
    "scrolled": true
   },
   "outputs": [
    {
     "data": {
      "text/html": [
       "<div>\n",
       "<style scoped>\n",
       "    .dataframe tbody tr th:only-of-type {\n",
       "        vertical-align: middle;\n",
       "    }\n",
       "\n",
       "    .dataframe tbody tr th {\n",
       "        vertical-align: top;\n",
       "    }\n",
       "\n",
       "    .dataframe thead th {\n",
       "        text-align: right;\n",
       "    }\n",
       "</style>\n",
       "<table border=\"1\" class=\"dataframe\">\n",
       "  <thead>\n",
       "    <tr style=\"text-align: right;\">\n",
       "      <th></th>\n",
       "      <th>gender</th>\n",
       "      <th>scheduled_day</th>\n",
       "      <th>appointment_day</th>\n",
       "      <th>age</th>\n",
       "      <th>neighbourhood</th>\n",
       "      <th>on_welfare</th>\n",
       "      <th>hypertension</th>\n",
       "      <th>diabetes</th>\n",
       "      <th>alcoholism</th>\n",
       "      <th>handicap</th>\n",
       "      <th>sms_received</th>\n",
       "      <th>showed_up</th>\n",
       "    </tr>\n",
       "  </thead>\n",
       "  <tbody>\n",
       "    <tr>\n",
       "      <th>0</th>\n",
       "      <td>F</td>\n",
       "      <td>2016-04-29T18:38:08Z</td>\n",
       "      <td>2016-04-29T00:00:00Z</td>\n",
       "      <td>62</td>\n",
       "      <td>JARDIM DA PENHA</td>\n",
       "      <td>0</td>\n",
       "      <td>1</td>\n",
       "      <td>0</td>\n",
       "      <td>0</td>\n",
       "      <td>0</td>\n",
       "      <td>0</td>\n",
       "      <td>YES</td>\n",
       "    </tr>\n",
       "  </tbody>\n",
       "</table>\n",
       "</div>"
      ],
      "text/plain": [
       "  gender         scheduled_day       appointment_day  age    neighbourhood  \\\n",
       "0      F  2016-04-29T18:38:08Z  2016-04-29T00:00:00Z   62  JARDIM DA PENHA   \n",
       "\n",
       "   on_welfare  hypertension  diabetes  alcoholism  handicap  sms_received  \\\n",
       "0           0             1         0           0         0             0   \n",
       "\n",
       "  showed_up  \n",
       "0       YES  "
      ]
     },
     "execution_count": 13,
     "metadata": {},
     "output_type": "execute_result"
    }
   ],
   "source": [
    "df['showed_up'] = df['showed_up'].replace(to_replace=['Yes','No'], value=['NO','YES'])\n",
    "\n",
    "df.head(1)"
   ]
  },
  {
   "cell_type": "markdown",
   "metadata": {},
   "source": [
    "__There we go! The Google Docs file stated that 'No' in the original dataset meant that the patient _did_ show up. It would be much clear and direct if I made it so that 'YES' meant showed up, and 'NO' meant didn't show up. I also went ahead and made it in all-caps since I just like the look of all-caps in the data better.__"
   ]
  },
  {
   "cell_type": "code",
   "execution_count": 14,
   "metadata": {},
   "outputs": [
    {
     "data": {
      "text/html": [
       "<div>\n",
       "<style scoped>\n",
       "    .dataframe tbody tr th:only-of-type {\n",
       "        vertical-align: middle;\n",
       "    }\n",
       "\n",
       "    .dataframe tbody tr th {\n",
       "        vertical-align: top;\n",
       "    }\n",
       "\n",
       "    .dataframe thead th {\n",
       "        text-align: right;\n",
       "    }\n",
       "</style>\n",
       "<table border=\"1\" class=\"dataframe\">\n",
       "  <thead>\n",
       "    <tr style=\"text-align: right;\">\n",
       "      <th></th>\n",
       "      <th>gender</th>\n",
       "      <th>scheduled_day</th>\n",
       "      <th>appointment_day</th>\n",
       "      <th>age</th>\n",
       "      <th>neighbourhood</th>\n",
       "      <th>on_welfare</th>\n",
       "      <th>hypertension</th>\n",
       "      <th>diabetes</th>\n",
       "      <th>alcoholism</th>\n",
       "      <th>handicap</th>\n",
       "      <th>sms_received</th>\n",
       "      <th>showed_up</th>\n",
       "    </tr>\n",
       "  </thead>\n",
       "  <tbody>\n",
       "    <tr>\n",
       "      <th>0</th>\n",
       "      <td>F</td>\n",
       "      <td>2016-04-29</td>\n",
       "      <td>2016-04-29</td>\n",
       "      <td>62</td>\n",
       "      <td>JARDIM DA PENHA</td>\n",
       "      <td>0</td>\n",
       "      <td>1</td>\n",
       "      <td>0</td>\n",
       "      <td>0</td>\n",
       "      <td>0</td>\n",
       "      <td>0</td>\n",
       "      <td>YES</td>\n",
       "    </tr>\n",
       "  </tbody>\n",
       "</table>\n",
       "</div>"
      ],
      "text/plain": [
       "  gender scheduled_day appointment_day  age    neighbourhood  on_welfare  \\\n",
       "0      F    2016-04-29      2016-04-29   62  JARDIM DA PENHA           0   \n",
       "\n",
       "   hypertension  diabetes  alcoholism  handicap  sms_received showed_up  \n",
       "0             1         0           0         0             0       YES  "
      ]
     },
     "execution_count": 14,
     "metadata": {},
     "output_type": "execute_result"
    }
   ],
   "source": [
    "df['scheduled_day'] = df['scheduled_day'].map(lambda x: x[:10])\n",
    "df['appointment_day'] = df['appointment_day'].map(lambda x: x[:10])\n",
    "\n",
    "df.head(1)"
   ]
  },
  {
   "cell_type": "markdown",
   "metadata": {},
   "source": [
    "__Above, I came back to trim down the day to just the date without the hour because I found a limitation in the exploration section below. Unfortunately, there is data only on the hour the appointment was scheduled, but the appointment date itself has only the date available, with the hour always defaulted to exactly midnight - this makes comparison between them a little awkward. I needed to make a column that was the difference between the scheduling and appointment dates, and the substraction yielded some negative values for people who set up their appointments on the same day. I concluded that it's better, if less precise, to calculate the the difference using just the number of days waited, without the hours. I will also convert them to datetime dtype below.__"
   ]
  },
  {
   "cell_type": "code",
   "execution_count": 15,
   "metadata": {},
   "outputs": [],
   "source": [
    "df['scheduled_day'] = pd.to_datetime(df['scheduled_day'])\n",
    "df['appointment_day'] = pd.to_datetime(df['appointment_day'])"
   ]
  },
  {
   "cell_type": "code",
   "execution_count": 16,
   "metadata": {},
   "outputs": [],
   "source": [
    "col_list = ['on_welfare', 'hypertension', 'diabetes', 'alcoholism', 'sms_received']\n",
    "\n",
    "for col in col_list:\n",
    "    df[col] = df[col].astype(str).replace(to_replace=['0','1'], value=['NO','YES'])"
   ]
  },
  {
   "cell_type": "code",
   "execution_count": 17,
   "metadata": {},
   "outputs": [],
   "source": [
    "old = ['0','1','2','3','4']\n",
    "handicap_levels = ['None', 'Mild', 'Moderate', 'Serious', 'Severe']\n",
    "\n",
    "df['handicap'] = df['handicap'].astype(str).replace(to_replace=old, value=handicap_levels)"
   ]
  },
  {
   "cell_type": "markdown",
   "metadata": {},
   "source": [
    "__Lastly, I changed the dates to a datetime format to be able to substract them later on, and converted the 0/1 columns to a more appropriate string format, along with changing their values to the words 'YES' and \"NO'. I also replaced the numbered values representing disability level with string values instead.__\n",
    "\n",
    "__Now, Let's look at our dataset after all these changes.__"
   ]
  },
  {
   "cell_type": "code",
   "execution_count": 18,
   "metadata": {},
   "outputs": [
    {
     "data": {
      "text/html": [
       "<div>\n",
       "<style scoped>\n",
       "    .dataframe tbody tr th:only-of-type {\n",
       "        vertical-align: middle;\n",
       "    }\n",
       "\n",
       "    .dataframe tbody tr th {\n",
       "        vertical-align: top;\n",
       "    }\n",
       "\n",
       "    .dataframe thead th {\n",
       "        text-align: right;\n",
       "    }\n",
       "</style>\n",
       "<table border=\"1\" class=\"dataframe\">\n",
       "  <thead>\n",
       "    <tr style=\"text-align: right;\">\n",
       "      <th></th>\n",
       "      <th>gender</th>\n",
       "      <th>scheduled_day</th>\n",
       "      <th>appointment_day</th>\n",
       "      <th>age</th>\n",
       "      <th>neighbourhood</th>\n",
       "      <th>on_welfare</th>\n",
       "      <th>hypertension</th>\n",
       "      <th>diabetes</th>\n",
       "      <th>alcoholism</th>\n",
       "      <th>handicap</th>\n",
       "      <th>sms_received</th>\n",
       "      <th>showed_up</th>\n",
       "    </tr>\n",
       "  </thead>\n",
       "  <tbody>\n",
       "    <tr>\n",
       "      <th>0</th>\n",
       "      <td>F</td>\n",
       "      <td>2016-04-29</td>\n",
       "      <td>2016-04-29</td>\n",
       "      <td>62</td>\n",
       "      <td>JARDIM DA PENHA</td>\n",
       "      <td>NO</td>\n",
       "      <td>YES</td>\n",
       "      <td>NO</td>\n",
       "      <td>NO</td>\n",
       "      <td>None</td>\n",
       "      <td>NO</td>\n",
       "      <td>YES</td>\n",
       "    </tr>\n",
       "  </tbody>\n",
       "</table>\n",
       "</div>"
      ],
      "text/plain": [
       "  gender scheduled_day appointment_day  age    neighbourhood on_welfare  \\\n",
       "0      F    2016-04-29      2016-04-29   62  JARDIM DA PENHA         NO   \n",
       "\n",
       "  hypertension diabetes alcoholism handicap sms_received showed_up  \n",
       "0          YES       NO         NO     None           NO       YES  "
      ]
     },
     "execution_count": 18,
     "metadata": {},
     "output_type": "execute_result"
    }
   ],
   "source": [
    "df.head(1)"
   ]
  },
  {
   "cell_type": "code",
   "execution_count": 19,
   "metadata": {},
   "outputs": [
    {
     "name": "stdout",
     "output_type": "stream",
     "text": [
      "<class 'pandas.core.frame.DataFrame'>\n",
      "Int64Index: 110526 entries, 0 to 110526\n",
      "Data columns (total 12 columns):\n",
      "gender             110526 non-null object\n",
      "scheduled_day      110526 non-null datetime64[ns]\n",
      "appointment_day    110526 non-null datetime64[ns]\n",
      "age                110526 non-null int64\n",
      "neighbourhood      110526 non-null object\n",
      "on_welfare         110526 non-null object\n",
      "hypertension       110526 non-null object\n",
      "diabetes           110526 non-null object\n",
      "alcoholism         110526 non-null object\n",
      "handicap           110526 non-null object\n",
      "sms_received       110526 non-null object\n",
      "showed_up          110526 non-null object\n",
      "dtypes: datetime64[ns](2), int64(1), object(9)\n",
      "memory usage: 11.0+ MB\n"
     ]
    }
   ],
   "source": [
    "df.info()"
   ]
  },
  {
   "cell_type": "code",
   "execution_count": 20,
   "metadata": {},
   "outputs": [
    {
     "data": {
      "text/html": [
       "<div>\n",
       "<style scoped>\n",
       "    .dataframe tbody tr th:only-of-type {\n",
       "        vertical-align: middle;\n",
       "    }\n",
       "\n",
       "    .dataframe tbody tr th {\n",
       "        vertical-align: top;\n",
       "    }\n",
       "\n",
       "    .dataframe thead th {\n",
       "        text-align: right;\n",
       "    }\n",
       "</style>\n",
       "<table border=\"1\" class=\"dataframe\">\n",
       "  <thead>\n",
       "    <tr style=\"text-align: right;\">\n",
       "      <th></th>\n",
       "      <th>age</th>\n",
       "    </tr>\n",
       "  </thead>\n",
       "  <tbody>\n",
       "    <tr>\n",
       "      <th>count</th>\n",
       "      <td>110526.000000</td>\n",
       "    </tr>\n",
       "    <tr>\n",
       "      <th>mean</th>\n",
       "      <td>37.089219</td>\n",
       "    </tr>\n",
       "    <tr>\n",
       "      <th>std</th>\n",
       "      <td>23.110026</td>\n",
       "    </tr>\n",
       "    <tr>\n",
       "      <th>min</th>\n",
       "      <td>0.000000</td>\n",
       "    </tr>\n",
       "    <tr>\n",
       "      <th>25%</th>\n",
       "      <td>18.000000</td>\n",
       "    </tr>\n",
       "    <tr>\n",
       "      <th>50%</th>\n",
       "      <td>37.000000</td>\n",
       "    </tr>\n",
       "    <tr>\n",
       "      <th>75%</th>\n",
       "      <td>55.000000</td>\n",
       "    </tr>\n",
       "    <tr>\n",
       "      <th>max</th>\n",
       "      <td>115.000000</td>\n",
       "    </tr>\n",
       "  </tbody>\n",
       "</table>\n",
       "</div>"
      ],
      "text/plain": [
       "                 age\n",
       "count  110526.000000\n",
       "mean       37.089219\n",
       "std        23.110026\n",
       "min         0.000000\n",
       "25%        18.000000\n",
       "50%        37.000000\n",
       "75%        55.000000\n",
       "max       115.000000"
      ]
     },
     "execution_count": 20,
     "metadata": {},
     "output_type": "execute_result"
    }
   ],
   "source": [
    "df.describe()"
   ]
  },
  {
   "cell_type": "markdown",
   "metadata": {},
   "source": [
    "__Great! Now the data looks much better and easier to interact with. All data types are appropriate, typos have been corrected, columns have been renamed more appropriately, and the row with the very young -1 years-old person has been dropped, along with columns I won't be using for my analysis.__"
   ]
  },
  {
   "cell_type": "markdown",
   "metadata": {},
   "source": [
    "<a id='eda'></a>\n",
    "## Exploratory Data Analysis\n",
    "\n",
    "\n",
    "### Research Question 1 : (Which gender tended to show up more?)"
   ]
  },
  {
   "cell_type": "code",
   "execution_count": 21,
   "metadata": {},
   "outputs": [
    {
     "data": {
      "text/plain": [
       "F    71839\n",
       "M    38687\n",
       "Name: gender, dtype: int64"
      ]
     },
     "execution_count": 21,
     "metadata": {},
     "output_type": "execute_result"
    }
   ],
   "source": [
    "df['gender'].value_counts()"
   ]
  },
  {
   "cell_type": "markdown",
   "metadata": {},
   "source": [
    "__It seems females are much more represented in this sample than males, so it would be better to work using their respective percentages to see if gender really was much of a factor in showing up. I'm going to divide the dataset into two genders, then make pie charts to see the show up rates for both.__"
   ]
  },
  {
   "cell_type": "code",
   "execution_count": 22,
   "metadata": {},
   "outputs": [],
   "source": [
    "df_m = df.query('gender == \"M\"')\n",
    "df_f = df.query('gender == \"F\"')"
   ]
  },
  {
   "cell_type": "code",
   "execution_count": 23,
   "metadata": {},
   "outputs": [],
   "source": [
    "def pie_charts(position, status, df_x, color_1, color_2):\n",
    "    \n",
    "    \"\"\"Displays two pie charts next to each other comparing show up rates for a particular subgroup of patients.\"\"\"\n",
    "    \n",
    "    plt.subplot(1,2,position)\n",
    "    plt.title('Patient Show Up - \\n{}'.format(status), fontsize=15, color='brown')\n",
    "    \n",
    "    df_x['showed_up'].value_counts().plot(kind='pie', \n",
    "                                          figsize=(11,5),\n",
    "                                          autopct='%1.1f%%',\n",
    "                                          fontsize=15,\n",
    "                                          startangle=90,\n",
    "                                          explode=(0,0.1),\n",
    "                                          shadow=True,\n",
    "                                          label='',\n",
    "                                          colors=[color_1,color_2])"
   ]
  },
  {
   "cell_type": "markdown",
   "metadata": {},
   "source": [
    "__I defined the pie_charts() function above for later use, so I can just call it up while changing some variables later.__"
   ]
  },
  {
   "cell_type": "code",
   "execution_count": 24,
   "metadata": {},
   "outputs": [
    {
     "data": {
      "image/png": "[encoded data removed]",
      "text/plain": [
       "<matplotlib.figure.Figure at 0x7f3a16216e10>"
      ]
     },
     "metadata": {},
     "output_type": "display_data"
    }
   ],
   "source": [
    "pie_charts(1, 'Male', df_m, 'lightblue', 'lightcyan')\n",
    "pie_charts(2, 'Female', df_f, 'pink', 'lavenderblush')"
   ]
  },
  {
   "cell_type": "code",
   "execution_count": 25,
   "metadata": {},
   "outputs": [
    {
     "data": {
      "text/plain": [
       "YES    0.798066\n",
       "NO     0.201934\n",
       "Name: showed_up, dtype: float64"
      ]
     },
     "execution_count": 25,
     "metadata": {},
     "output_type": "execute_result"
    }
   ],
   "source": [
    "df['showed_up'].value_counts(normalize=True)"
   ]
  },
  {
   "cell_type": "markdown",
   "metadata": {},
   "source": [
    "__Show up is about 80% for both.__\n",
    "\n",
    "__It seems that gender is not really much of a factor in whether someone tends to show up for the appointment. Females and males show similar percentages for turning up to appointments, males very slightly more. These percentage are similar to the show up percentages of the sample regardless of gender, calculated above.__"
   ]
  },
  {
   "cell_type": "markdown",
   "metadata": {},
   "source": [
    "### Research Question 2 : \n",
    "\n",
    "### (Is a long time gap between the scheduling date and the appointment date associated with worse show-up rates?)"
   ]
  },
  {
   "cell_type": "code",
   "execution_count": 26,
   "metadata": {},
   "outputs": [
    {
     "data": {
      "text/html": [
       "<div>\n",
       "<style scoped>\n",
       "    .dataframe tbody tr th:only-of-type {\n",
       "        vertical-align: middle;\n",
       "    }\n",
       "\n",
       "    .dataframe tbody tr th {\n",
       "        vertical-align: top;\n",
       "    }\n",
       "\n",
       "    .dataframe thead th {\n",
       "        text-align: right;\n",
       "    }\n",
       "</style>\n",
       "<table border=\"1\" class=\"dataframe\">\n",
       "  <thead>\n",
       "    <tr style=\"text-align: right;\">\n",
       "      <th></th>\n",
       "      <th>gender</th>\n",
       "      <th>scheduled_day</th>\n",
       "      <th>appointment_day</th>\n",
       "      <th>wait_days</th>\n",
       "      <th>age</th>\n",
       "      <th>neighbourhood</th>\n",
       "      <th>on_welfare</th>\n",
       "      <th>hypertension</th>\n",
       "      <th>diabetes</th>\n",
       "      <th>alcoholism</th>\n",
       "      <th>handicap</th>\n",
       "      <th>sms_received</th>\n",
       "      <th>showed_up</th>\n",
       "    </tr>\n",
       "  </thead>\n",
       "  <tbody>\n",
       "    <tr>\n",
       "      <th>0</th>\n",
       "      <td>F</td>\n",
       "      <td>2016-04-29</td>\n",
       "      <td>2016-04-29</td>\n",
       "      <td>0 days</td>\n",
       "      <td>62</td>\n",
       "      <td>JARDIM DA PENHA</td>\n",
       "      <td>NO</td>\n",
       "      <td>YES</td>\n",
       "      <td>NO</td>\n",
       "      <td>NO</td>\n",
       "      <td>None</td>\n",
       "      <td>NO</td>\n",
       "      <td>YES</td>\n",
       "    </tr>\n",
       "  </tbody>\n",
       "</table>\n",
       "</div>"
      ],
      "text/plain": [
       "  gender scheduled_day appointment_day wait_days  age    neighbourhood  \\\n",
       "0      F    2016-04-29      2016-04-29    0 days   62  JARDIM DA PENHA   \n",
       "\n",
       "  on_welfare hypertension diabetes alcoholism handicap sms_received showed_up  \n",
       "0         NO          YES       NO         NO     None           NO       YES  "
      ]
     },
     "execution_count": 26,
     "metadata": {},
     "output_type": "execute_result"
    }
   ],
   "source": [
    "difference = df['appointment_day'] - df['scheduled_day']\n",
    "df.insert(3, 'wait_days', difference)\n",
    "\n",
    "df.head(1)"
   ]
  },
  {
   "cell_type": "markdown",
   "metadata": {},
   "source": [
    "__To answer this question, it is necessary to first calculate the number of days between the scheduling date and the appointnment date in a new column I names 'wait_days'.__"
   ]
  },
  {
   "cell_type": "code",
   "execution_count": 27,
   "metadata": {},
   "outputs": [
    {
     "data": {
      "text/plain": [
       "0    0\n",
       "1    0\n",
       "2    0\n",
       "3    0\n",
       "4    0\n",
       "Name: wait_days, dtype: int64"
      ]
     },
     "execution_count": 27,
     "metadata": {},
     "output_type": "execute_result"
    }
   ],
   "source": [
    "df['wait_days'] = df['wait_days'].astype(str).map(lambda x: x[:2]).astype(int)\n",
    "\n",
    "df['wait_days'].head()"
   ]
  },
  {
   "cell_type": "code",
   "execution_count": 28,
   "metadata": {},
   "outputs": [
    {
     "data": {
      "text/plain": [
       "count    110526.000000\n",
       "mean         10.028012\n",
       "std          14.536631\n",
       "min          -6.000000\n",
       "25%           0.000000\n",
       "50%           4.000000\n",
       "75%          15.000000\n",
       "max          98.000000\n",
       "Name: wait_days, dtype: float64"
      ]
     },
     "execution_count": 28,
     "metadata": {},
     "output_type": "execute_result"
    }
   ],
   "source": [
    "df['wait_days'].describe()"
   ]
  },
  {
   "cell_type": "code",
   "execution_count": 29,
   "metadata": {},
   "outputs": [
    {
     "data": {
      "text/html": [
       "<div>\n",
       "<style scoped>\n",
       "    .dataframe tbody tr th:only-of-type {\n",
       "        vertical-align: middle;\n",
       "    }\n",
       "\n",
       "    .dataframe tbody tr th {\n",
       "        vertical-align: top;\n",
       "    }\n",
       "\n",
       "    .dataframe thead th {\n",
       "        text-align: right;\n",
       "    }\n",
       "</style>\n",
       "<table border=\"1\" class=\"dataframe\">\n",
       "  <thead>\n",
       "    <tr style=\"text-align: right;\">\n",
       "      <th></th>\n",
       "      <th>gender</th>\n",
       "      <th>scheduled_day</th>\n",
       "      <th>appointment_day</th>\n",
       "      <th>wait_days</th>\n",
       "      <th>age</th>\n",
       "      <th>neighbourhood</th>\n",
       "      <th>on_welfare</th>\n",
       "      <th>hypertension</th>\n",
       "      <th>diabetes</th>\n",
       "      <th>alcoholism</th>\n",
       "      <th>handicap</th>\n",
       "      <th>sms_received</th>\n",
       "      <th>showed_up</th>\n",
       "    </tr>\n",
       "  </thead>\n",
       "  <tbody>\n",
       "    <tr>\n",
       "      <th>27033</th>\n",
       "      <td>M</td>\n",
       "      <td>2016-05-10</td>\n",
       "      <td>2016-05-09</td>\n",
       "      <td>-1</td>\n",
       "      <td>38</td>\n",
       "      <td>RESISTÊNCIA</td>\n",
       "      <td>NO</td>\n",
       "      <td>NO</td>\n",
       "      <td>NO</td>\n",
       "      <td>NO</td>\n",
       "      <td>Mild</td>\n",
       "      <td>NO</td>\n",
       "      <td>NO</td>\n",
       "    </tr>\n",
       "    <tr>\n",
       "      <th>55226</th>\n",
       "      <td>F</td>\n",
       "      <td>2016-05-18</td>\n",
       "      <td>2016-05-17</td>\n",
       "      <td>-1</td>\n",
       "      <td>19</td>\n",
       "      <td>SANTO ANTÔNIO</td>\n",
       "      <td>NO</td>\n",
       "      <td>NO</td>\n",
       "      <td>NO</td>\n",
       "      <td>NO</td>\n",
       "      <td>Mild</td>\n",
       "      <td>NO</td>\n",
       "      <td>NO</td>\n",
       "    </tr>\n",
       "    <tr>\n",
       "      <th>64175</th>\n",
       "      <td>F</td>\n",
       "      <td>2016-05-05</td>\n",
       "      <td>2016-05-04</td>\n",
       "      <td>-1</td>\n",
       "      <td>22</td>\n",
       "      <td>CONSOLAÇÃO</td>\n",
       "      <td>NO</td>\n",
       "      <td>NO</td>\n",
       "      <td>NO</td>\n",
       "      <td>NO</td>\n",
       "      <td>None</td>\n",
       "      <td>NO</td>\n",
       "      <td>NO</td>\n",
       "    </tr>\n",
       "    <tr>\n",
       "      <th>71533</th>\n",
       "      <td>F</td>\n",
       "      <td>2016-05-11</td>\n",
       "      <td>2016-05-05</td>\n",
       "      <td>-6</td>\n",
       "      <td>81</td>\n",
       "      <td>SANTO ANTÔNIO</td>\n",
       "      <td>NO</td>\n",
       "      <td>NO</td>\n",
       "      <td>NO</td>\n",
       "      <td>NO</td>\n",
       "      <td>None</td>\n",
       "      <td>NO</td>\n",
       "      <td>NO</td>\n",
       "    </tr>\n",
       "    <tr>\n",
       "      <th>72362</th>\n",
       "      <td>M</td>\n",
       "      <td>2016-05-04</td>\n",
       "      <td>2016-05-03</td>\n",
       "      <td>-1</td>\n",
       "      <td>7</td>\n",
       "      <td>TABUAZEIRO</td>\n",
       "      <td>NO</td>\n",
       "      <td>NO</td>\n",
       "      <td>NO</td>\n",
       "      <td>NO</td>\n",
       "      <td>None</td>\n",
       "      <td>NO</td>\n",
       "      <td>NO</td>\n",
       "    </tr>\n",
       "  </tbody>\n",
       "</table>\n",
       "</div>"
      ],
      "text/plain": [
       "      gender scheduled_day appointment_day  wait_days  age  neighbourhood  \\\n",
       "27033      M    2016-05-10      2016-05-09         -1   38    RESISTÊNCIA   \n",
       "55226      F    2016-05-18      2016-05-17         -1   19  SANTO ANTÔNIO   \n",
       "64175      F    2016-05-05      2016-05-04         -1   22     CONSOLAÇÃO   \n",
       "71533      F    2016-05-11      2016-05-05         -6   81  SANTO ANTÔNIO   \n",
       "72362      M    2016-05-04      2016-05-03         -1    7     TABUAZEIRO   \n",
       "\n",
       "      on_welfare hypertension diabetes alcoholism handicap sms_received  \\\n",
       "27033         NO           NO       NO         NO     Mild           NO   \n",
       "55226         NO           NO       NO         NO     Mild           NO   \n",
       "64175         NO           NO       NO         NO     None           NO   \n",
       "71533         NO           NO       NO         NO     None           NO   \n",
       "72362         NO           NO       NO         NO     None           NO   \n",
       "\n",
       "      showed_up  \n",
       "27033        NO  \n",
       "55226        NO  \n",
       "64175        NO  \n",
       "71533        NO  \n",
       "72362        NO  "
      ]
     },
     "execution_count": 29,
     "metadata": {},
     "output_type": "execute_result"
    }
   ],
   "source": [
    "df[df['wait_days'] < 0]"
   ]
  },
  {
   "cell_type": "markdown",
   "metadata": {},
   "source": [
    "__I made it so that the 'wait_days\" values are single integer numbers.__\n",
    "\n",
    "__There seems to be some non-sensical negative values that imply the scheduling day is after the appointment itself. I am going to drop these few rows from the dataset.__"
   ]
  },
  {
   "cell_type": "code",
   "execution_count": 30,
   "metadata": {},
   "outputs": [
    {
     "data": {
      "text/plain": [
       "(110521, 13)"
      ]
     },
     "execution_count": 30,
     "metadata": {},
     "output_type": "execute_result"
    }
   ],
   "source": [
    "df.drop(df[df['wait_days'] < 0 ].index, axis=0, inplace=True)\n",
    "df.shape"
   ]
  },
  {
   "cell_type": "code",
   "execution_count": 31,
   "metadata": {},
   "outputs": [
    {
     "data": {
      "text/plain": [
       "count    110521.000000\n",
       "mean         10.028556\n",
       "std          14.536728\n",
       "min           0.000000\n",
       "25%           0.000000\n",
       "50%           4.000000\n",
       "75%          15.000000\n",
       "max          98.000000\n",
       "Name: wait_days, dtype: float64"
      ]
     },
     "execution_count": 31,
     "metadata": {},
     "output_type": "execute_result"
    }
   ],
   "source": [
    "df.describe().wait_days"
   ]
  },
  {
   "cell_type": "markdown",
   "metadata": {},
   "source": [
    "__Now the wait days seem to fall into a logical range, from not waiting any number of days to waiting as much as 98 days.__"
   ]
  },
  {
   "cell_type": "code",
   "execution_count": 32,
   "metadata": {},
   "outputs": [
    {
     "data": {
      "text/html": [
       "<div>\n",
       "<style scoped>\n",
       "    .dataframe tbody tr th:only-of-type {\n",
       "        vertical-align: middle;\n",
       "    }\n",
       "\n",
       "    .dataframe tbody tr th {\n",
       "        vertical-align: top;\n",
       "    }\n",
       "\n",
       "    .dataframe thead th {\n",
       "        text-align: right;\n",
       "    }\n",
       "</style>\n",
       "<table border=\"1\" class=\"dataframe\">\n",
       "  <thead>\n",
       "    <tr style=\"text-align: right;\">\n",
       "      <th></th>\n",
       "      <th>gender</th>\n",
       "      <th>scheduled_day</th>\n",
       "      <th>appointment_day</th>\n",
       "      <th>wait_days</th>\n",
       "      <th>wait_day_range</th>\n",
       "      <th>age</th>\n",
       "      <th>neighbourhood</th>\n",
       "      <th>on_welfare</th>\n",
       "      <th>hypertension</th>\n",
       "      <th>diabetes</th>\n",
       "      <th>alcoholism</th>\n",
       "      <th>handicap</th>\n",
       "      <th>sms_received</th>\n",
       "      <th>showed_up</th>\n",
       "    </tr>\n",
       "  </thead>\n",
       "  <tbody>\n",
       "    <tr>\n",
       "      <th>0</th>\n",
       "      <td>F</td>\n",
       "      <td>2016-04-29</td>\n",
       "      <td>2016-04-29</td>\n",
       "      <td>0</td>\n",
       "      <td>0-20 days</td>\n",
       "      <td>62</td>\n",
       "      <td>JARDIM DA PENHA</td>\n",
       "      <td>NO</td>\n",
       "      <td>YES</td>\n",
       "      <td>NO</td>\n",
       "      <td>NO</td>\n",
       "      <td>None</td>\n",
       "      <td>NO</td>\n",
       "      <td>YES</td>\n",
       "    </tr>\n",
       "  </tbody>\n",
       "</table>\n",
       "</div>"
      ],
      "text/plain": [
       "  gender scheduled_day appointment_day  wait_days wait_day_range  age  \\\n",
       "0      F    2016-04-29      2016-04-29          0      0-20 days   62   \n",
       "\n",
       "     neighbourhood on_welfare hypertension diabetes alcoholism handicap  \\\n",
       "0  JARDIM DA PENHA         NO          YES       NO         NO     None   \n",
       "\n",
       "  sms_received showed_up  \n",
       "0           NO       YES  "
      ]
     },
     "execution_count": 32,
     "metadata": {},
     "output_type": "execute_result"
    }
   ],
   "source": [
    "days_bin_edges = [-1,20,40,60,80,98]\n",
    "days_bin_names = ['0-20 days', '21-40 days', '41-60 days', '61-80 days', '81-98 days']\n",
    "\n",
    "df.insert(4,'wait_day_range', pd.cut(df['wait_days'], days_bin_edges, labels=days_bin_names))\n",
    "df.head(1)"
   ]
  },
  {
   "cell_type": "markdown",
   "metadata": {},
   "source": [
    "__I added a new column stating the time range that the wait time falls into, with the first edge being -1 in order to include 0. Using this, I think a bar chart would be best to demonstrate the proportions of show up versus no-show per wait range, along with the difference between them.__\n",
    "\n",
    "__In the cell below, I will make calculation to get the proportions of:__\n",
    "\n",
    "__1- The patients who showed up to the total.__\n",
    "\n",
    "__2- The patients who didn't show up to the total.__\n",
    "\n",
    "__3- The difference between show and no-show rates to the total.__\n",
    "\n",
    "__All of this per every wait range group. Next, I'm going to make a stacked bar chart to visualize those, all within a function called bars().__"
   ]
  },
  {
   "cell_type": "code",
   "execution_count": 33,
   "metadata": {},
   "outputs": [],
   "source": [
    "def bars(df_x, variable, title, xlabel, xtick_names, color_1, color_2, color_3):\n",
    "    \n",
    "    \"\"\"Displays bar comparing show up rates, no-show rates, and the difference between them in proportion,\n",
    "       according to a certain variable, along with printing relevent proportion calculations.\"\"\"\n",
    "    \n",
    "    count = df_x.groupby(['showed_up',variable])[variable].count()\n",
    "    delta = count['YES'] - count['NO']\n",
    "    total = df_x[variable].value_counts()\n",
    "    yes_prop = count['YES'] / total\n",
    "    no_prop = count['NO'] / total\n",
    "    diff_prop = delta / total\n",
    "    \n",
    "    print('YES\\n', yes_prop, '\\n\\nNO\\n', no_prop, '\\n\\nDIFF\\n', diff_prop)\n",
    "    \n",
    "    ind = np.arange(len(yes_prop))\n",
    "    width = 0.35\n",
    "    locations = ind + width / 2\n",
    "    \n",
    "    plt.figure(figsize=(9,9))\n",
    "    plt.title(title, fontsize=20, color='brown')\n",
    "    plt.xlabel(xlabel, fontsize=20)\n",
    "    plt.ylabel('Proportions', fontsize=20)\n",
    "    plt.xticks(locations, xtick_names, fontsize=15)\n",
    "    plt.yticks(fontsize=15)\n",
    "    \n",
    "    yes_bars = plt.bar(ind, yes_prop, width, color=color_1, alpha=0.7, label='YES')\n",
    "    no_bars = plt.bar(ind, no_prop, width, color=color_2, alpha=0.7, label='NO')\n",
    "    diff_bars = plt.bar((ind+width), diff_prop, width, color=color_3, alpha=1, label='DIFF')\n",
    "    \n",
    "    plt.legend()"
   ]
  },
  {
   "cell_type": "code",
   "execution_count": 34,
   "metadata": {},
   "outputs": [
    {
     "name": "stdout",
     "output_type": "stream",
     "text": [
      "YES\n",
      " wait_day_range\n",
      "0-20 days     0.827019\n",
      "21-40 days    0.667781\n",
      "41-60 days    0.664182\n",
      "61-80 days    0.708157\n",
      "81-98 days    0.761589\n",
      "Name: wait_day_range, dtype: float64 \n",
      "\n",
      "NO\n",
      " wait_day_range\n",
      "0-20 days     0.172981\n",
      "21-40 days    0.332219\n",
      "41-60 days    0.335818\n",
      "61-80 days    0.291843\n",
      "81-98 days    0.238411\n",
      "Name: wait_day_range, dtype: float64 \n",
      "\n",
      "DIFF\n",
      " wait_day_range\n",
      "0-20 days     0.654037\n",
      "21-40 days    0.335562\n",
      "41-60 days    0.328363\n",
      "61-80 days    0.416314\n",
      "81-98 days    0.523179\n",
      "Name: wait_day_range, dtype: float64\n"
     ]
    },
    {
     "data": {
      "image/png": "[encoded data removed]",
      "text/plain": [
       "<matplotlib.figure.Figure at 0x7f3a0d9006d8>"
      ]
     },
     "metadata": {
      "needs_background": "light"
     },
     "output_type": "display_data"
    }
   ],
   "source": [
    "bars(df, 'wait_day_range', 'Rates of Show Up By Wait Time', 'Wait Time', days_bin_names, 'blue', 'red', 'yellow')"
   ]
  },
  {
   "cell_type": "markdown",
   "metadata": {},
   "source": [
    "__We can see that the best show up rate occurs in the first group of people who waited for less than 20 days to go to the hospital. The rates then go down and no-shows go up for the two groups of people who waited from between 21 to 60 days for the appointment, But then they improve again for the last two groups, but not to the extent of the first group.__\n",
    "\n",
    "__There seems to a positive correlation between either short wait time or really long wait time for the appointment, but waiting for a medium period of time is actually associated with worse show-up rates.__"
   ]
  },
  {
   "cell_type": "markdown",
   "metadata": {},
   "source": [
    "### Research Question 3 : \n",
    "\n",
    "### (What is the breakdown of age brackets of patients who showed up vs. those who didn't?)"
   ]
  },
  {
   "cell_type": "code",
   "execution_count": 35,
   "metadata": {},
   "outputs": [
    {
     "data": {
      "text/plain": [
       "count    110521.000000\n",
       "mean         37.089386\n",
       "std          23.109885\n",
       "min           0.000000\n",
       "25%          18.000000\n",
       "50%          37.000000\n",
       "75%          55.000000\n",
       "max         115.000000\n",
       "Name: age, dtype: float64"
      ]
     },
     "execution_count": 35,
     "metadata": {},
     "output_type": "execute_result"
    }
   ],
   "source": [
    "df['age'].describe()"
   ]
  },
  {
   "cell_type": "markdown",
   "metadata": {},
   "source": [
    "__The average patient in general is middle-aged (about 37 years-old). I will divide the dataset into two, by show up.__"
   ]
  },
  {
   "cell_type": "code",
   "execution_count": 36,
   "metadata": {},
   "outputs": [],
   "source": [
    "df_yes = df.query('showed_up == \"YES\"')\n",
    "df_no = df.query('showed_up == \"NO\"')"
   ]
  },
  {
   "cell_type": "code",
   "execution_count": 37,
   "metadata": {},
   "outputs": [
    {
     "name": "stdout",
     "output_type": "stream",
     "text": [
      "38.0\n",
      "33.0\n",
      "23.338645064053026\n",
      "21.965009201236228\n"
     ]
    }
   ],
   "source": [
    "print(df_yes['age'].median())\n",
    "print(df_no['age'].median())\n",
    "\n",
    "print(df_yes['age'].std())\n",
    "print(df_no['age'].std())"
   ]
  },
  {
   "cell_type": "markdown",
   "metadata": {},
   "source": [
    "__The median age of people who showed up for their appointment seems to be a little older than the median age of people who didn't show up, with significant standard deviations from the mean of 23.3 and 22, respectively. I'm now going to divide the dataset by age group, and then find out the show up ratios per every age group.__"
   ]
  },
  {
   "cell_type": "code",
   "execution_count": 38,
   "metadata": {},
   "outputs": [],
   "source": [
    "children = df.query('age >= 0 and age < 18')['showed_up'].value_counts()\n",
    "younger_adults = df.query('age >= 18 and age < 36')['showed_up'].value_counts()\n",
    "middle_aged = df.query('age >= 36 and age < 60')['showed_up'].value_counts()\n",
    "seniors = df.query('age >= 60')['showed_up'].value_counts()"
   ]
  },
  {
   "cell_type": "code",
   "execution_count": 39,
   "metadata": {},
   "outputs": [
    {
     "name": "stdout",
     "output_type": "stream",
     "text": [
      "Children       3.566044029352902\n",
      "Younger Adults       3.1996394033764957\n",
      "Middle Aged       4.210579128440367\n",
      "Seniors       5.5325516815797595\n"
     ]
    }
   ],
   "source": [
    "age_groups = {'Children' : children,\n",
    "              'Younger Adults' : younger_adults,\n",
    "              'Middle Aged' : middle_aged,\n",
    "              'Seniors' : seniors}\n",
    "\n",
    "for key, value in age_groups.items():\n",
    "    yes_no_ratio = value[0] / value[1]\n",
    "    print(key, '     ', yes_no_ratio)"
   ]
  },
  {
   "cell_type": "markdown",
   "metadata": {},
   "source": [
    "__The calculations above are the show up ratios for every age group from youngest to oldest. We can observe that the ratio goes up with increase in age, meaning that as people get older, they are more likely to show for their appointment then not.__\n",
    "\n",
    "__Next, I'm going to be making a histogram showing the numbers of people who showed up vs those who didn't, per every age group.__ "
   ]
  },
  {
   "cell_type": "code",
   "execution_count": 40,
   "metadata": {},
   "outputs": [],
   "source": [
    "def hist(df_s, show_up, histcolor):\n",
    "    \n",
    "    \"\"\"Displays a histogram for show up and no-show numbers of patients from different age groups.\"\"\"\n",
    "    \n",
    "    df_s['age'].plot.hist(bins=[0,17,35,59,115],\n",
    "                          rwidth=0.5,\n",
    "                          label=show_up,\n",
    "                          color=histcolor,\n",
    "                          alpha=0.8)\n",
    "    plt.legend()"
   ]
  },
  {
   "cell_type": "code",
   "execution_count": 41,
   "metadata": {},
   "outputs": [
    {
     "data": {
      "image/png": "[encoded data removed]",
      "text/plain": [
       "<matplotlib.figure.Figure at 0x7f3a0d8601d0>"
      ]
     },
     "metadata": {
      "needs_background": "light"
     },
     "output_type": "display_data"
    }
   ],
   "source": [
    "plt.figure(figsize=(8,8))\n",
    "plt.title('Number Of Patient Show Ups By Age Group', fontsize=20, color='brown')\n",
    "plt.xlabel('Age Demographic', fontsize=20)\n",
    "plt.ylabel('Frequency', fontsize=20)\n",
    "plt.xticks([8,25,50,85], ['Children','Younger\\n Adults','Middle-Aged','Seniors'], fontsize=15)\n",
    "plt.yticks(fontsize=15)\n",
    "\n",
    "hist(df_yes, 'YES', 'forestgreen')\n",
    "hist(df_no, 'NO', 'orange')"
   ]
  },
  {
   "cell_type": "markdown",
   "metadata": {},
   "source": [
    "__From the histogram above and the median ages per show up group, it seems that an older age is correlated with a higher chance of show up, as the average age for people who showed up 38 (middle age), the chart showing that they are the most to show up more than any other group, but only slightly not show up more compared to other groups. That, and seniors seem the most likely to end up going to the doctor more often than not. for the two younger age groups, the orange bar takes up more of the green, signifying worse show up rates.__"
   ]
  },
  {
   "cell_type": "markdown",
   "metadata": {},
   "source": [
    "### Research Question 4 : \n",
    "\n",
    "### (Is the hospital location a factor?)"
   ]
  },
  {
   "cell_type": "code",
   "execution_count": 42,
   "metadata": {},
   "outputs": [
    {
     "name": "stdout",
     "output_type": "stream",
     "text": [
      "JARDIM CAMBURI    7717\n",
      "Name: neighbourhood, dtype: int64\n",
      "PARQUE INDUSTRIAL    1\n",
      "Name: neighbourhood, dtype: int64 \n",
      "\n",
      "JARDIM CAMBURI    6252\n",
      "Name: neighbourhood, dtype: int64\n",
      "PARQUE INDUSTRIAL    1\n",
      "Name: neighbourhood, dtype: int64 \n",
      "\n",
      "JARDIM CAMBURI    1465\n",
      "Name: neighbourhood, dtype: int64\n",
      "AEROPORTO    1\n",
      "Name: neighbourhood, dtype: int64 \n",
      "\n",
      "7\n"
     ]
    }
   ],
   "source": [
    "neigh = df['neighbourhood'].value_counts()\n",
    "neigh_yes = df_yes['neighbourhood'].value_counts()\n",
    "neigh_no = df_no['neighbourhood'].value_counts()\n",
    "\n",
    "print(neigh[neigh == neigh.max()],)\n",
    "print(neigh[neigh == neigh.min()], '\\n')\n",
    "\n",
    "print(neigh_yes[neigh_yes == neigh_yes.max()])\n",
    "print(neigh_yes[neigh_yes == neigh_yes.min()], '\\n')\n",
    "\n",
    "print(neigh_no[neigh_no == neigh_no.max()])\n",
    "print(neigh_no[neigh_no == neigh_no.min()], '\\n')\n",
    "\n",
    "print(df_yes['neighbourhood'][df_yes['neighbourhood'] == 'AEROPORTO'].count())"
   ]
  },
  {
   "cell_type": "markdown",
   "metadata": {},
   "source": [
    "__In the cell above I decided to do some exploration of the locations that appear most frequently in the dataset, and it seems that the JARDIM CAMBURI hospital is the one hospital that gets the most patients in general, whether they show up or not. but then there are other hospitals that show up only in the dataset as a yes. That doesn't mean it's a great hospital necessarily..\n",
    "Same for AEROPORTO - if it showed in 'NO' the least but showed up 7 times in 'YES', that doesn't mean anything because the sample size from that hospital is really small, and even if I adjusted all these neighbourhoods by show/no-show proportions, I will still not be able to answer my question or draw any useful statistical results, Because there is a limitation in that only the name of the neighbourhood is included, and no other information.__ "
   ]
  },
  {
   "cell_type": "markdown",
   "metadata": {},
   "source": [
    "### Research Question 5 : \n",
    "\n",
    "### (Are people more or less likely to show up if they are on welfare?)"
   ]
  },
  {
   "cell_type": "markdown",
   "metadata": {},
   "source": [
    "__Here I will also use a bar plot to visualise the proportions of show/no-show rates, according to welfare status.__"
   ]
  },
  {
   "cell_type": "code",
   "execution_count": 43,
   "metadata": {},
   "outputs": [
    {
     "name": "stdout",
     "output_type": "stream",
     "text": [
      "YES\n",
      " on_welfare\n",
      "NO     0.801967\n",
      "YES    0.762637\n",
      "Name: on_welfare, dtype: float64 \n",
      "\n",
      "NO\n",
      " on_welfare\n",
      "NO     0.198033\n",
      "YES    0.237363\n",
      "Name: on_welfare, dtype: float64 \n",
      "\n",
      "DIFF\n",
      " on_welfare\n",
      "NO     0.603933\n",
      "YES    0.525274\n",
      "Name: on_welfare, dtype: float64\n"
     ]
    },
    {
     "data": {
      "image/png": "[encoded data removed]",
      "text/plain": [
       "<matplotlib.figure.Figure at 0x7f3a0d85fc50>"
      ]
     },
     "metadata": {
      "needs_background": "light"
     },
     "output_type": "display_data"
    }
   ],
   "source": [
    "bars(df, 'on_welfare', 'Rates of Show Up By Welfare Status', 'Welfare Status', ['Not On Welfare','On Welfare'], 'navy', 'crimson', 'tan')"
   ]
  },
  {
   "cell_type": "markdown",
   "metadata": {},
   "source": [
    "__From the bar plot above, we can see the people not on welfare actually seem to have a higher ratio than those on welfare; this basically means that those not on welfare tend to show up to the appointment more often than not, compared to welfare recipients who show a lower yes/no difference ratio.__"
   ]
  },
  {
   "cell_type": "markdown",
   "metadata": {},
   "source": [
    "### Research Question 6 : \n",
    "\n",
    "### (What is the relation between having chronic conditions and the tendency to show up?)"
   ]
  },
  {
   "cell_type": "markdown",
   "metadata": {},
   "source": [
    "__Here, I will examine the data to look at two types of people: those who have a chronic condition, and those who are healthy. I will seperate these two categories, then use pie_charts() to demonstrate the show up percentages for each.__"
   ]
  },
  {
   "cell_type": "code",
   "execution_count": 44,
   "metadata": {},
   "outputs": [],
   "source": [
    "df_medical = df.query('hypertension == \"YES\" or diabetes == \"YES\" or alcoholism == \"YES\" or handicap != \"None\"')\n",
    "df_healthy = df.query('hypertension == \"NO\" and diabetes == \"NO\" and alcoholism == \"NO\" and handicap == \"None\"')"
   ]
  },
  {
   "cell_type": "code",
   "execution_count": 45,
   "metadata": {},
   "outputs": [
    {
     "data": {
      "image/png": "[encoded data removed]",
      "text/plain": [
       "<matplotlib.figure.Figure at 0x7f3a0d81b0b8>"
      ]
     },
     "metadata": {},
     "output_type": "display_data"
    }
   ],
   "source": [
    "pie_charts(1, 'Has a Chronic Condition', df_medical, 'rosybrown', 'tan')\n",
    "pie_charts(2, 'Healthy', df_healthy, 'greenyellow', 'palegreen')"
   ]
  },
  {
   "cell_type": "markdown",
   "metadata": {},
   "source": [
    "__From the pie charts above, we can see that chronically ill people seem to show up at a slightly higher rate of 82.2%, more than healthy people (79.1%).__"
   ]
  },
  {
   "cell_type": "markdown",
   "metadata": {},
   "source": [
    "### Research Question 7 :  (Does the level of disability show a positive correlation with show-up?)"
   ]
  },
  {
   "cell_type": "markdown",
   "metadata": {},
   "source": [
    "__I will use a bar chart to visualize the relation between disability level and tendency to show up, using bars() again.__"
   ]
  },
  {
   "cell_type": "code",
   "execution_count": 46,
   "metadata": {},
   "outputs": [
    {
     "name": "stdout",
     "output_type": "stream",
     "text": [
      "YES\n",
      " Mild        0.821569\n",
      "Moderate    0.797814\n",
      "None        0.797667\n",
      "Serious     0.769231\n",
      "Severe      0.666667\n",
      "Name: handicap, dtype: float64 \n",
      "\n",
      "NO\n",
      " Mild        0.178431\n",
      "Moderate    0.202186\n",
      "None        0.202333\n",
      "Serious     0.230769\n",
      "Severe      0.333333\n",
      "Name: handicap, dtype: float64 \n",
      "\n",
      "DIFF\n",
      " Mild        0.643137\n",
      "Moderate    0.595628\n",
      "None        0.595334\n",
      "Serious     0.538462\n",
      "Severe      0.333333\n",
      "Name: handicap, dtype: float64\n"
     ]
    },
    {
     "data": {
      "image/png": "[encoded data removed]",
      "text/plain": [
       "<matplotlib.figure.Figure at 0x7f3a0d75f0f0>"
      ]
     },
     "metadata": {
      "needs_background": "light"
     },
     "output_type": "display_data"
    }
   ],
   "source": [
    "bars(df, 'handicap', 'Rates of Show Up By Handicap Level', 'Handicap Level', handicap_levels, 'mediumblue', 'orangered', 'deeppink')"
   ]
  },
  {
   "cell_type": "markdown",
   "metadata": {},
   "source": [
    "__The above figure shows that as disability level gets more severe, there is a decrease in show up rates and an increase in\n",
    "no-show rates (negative correlation with show up).__"
   ]
  },
  {
   "cell_type": "markdown",
   "metadata": {},
   "source": [
    "### Research Question 8 : \n",
    "\n",
    "### (Does receiving an SMS reminder help in improving show up rates for people who had a long time to go until the appointment?)"
   ]
  },
  {
   "cell_type": "markdown",
   "metadata": {},
   "source": [
    "__For this last question, I'm going to compare two types of patients: the ones who got an SMS message reminder of their appointment, and the ones who did not. I'm then going to make two seperate bar charts for each group, in order to find out the effect of the SMS on show up proportions per wait time. I'm going to first seperate the dataset into two, by SMS reception status.__"
   ]
  },
  {
   "cell_type": "code",
   "execution_count": 47,
   "metadata": {},
   "outputs": [],
   "source": [
    "df_no_sms = df.query('sms_received == \"NO\"')\n",
    "df_got_sms = df.query('sms_received == \"YES\"')"
   ]
  },
  {
   "cell_type": "code",
   "execution_count": 48,
   "metadata": {},
   "outputs": [
    {
     "name": "stdout",
     "output_type": "stream",
     "text": [
      "YES\n",
      " wait_day_range\n",
      "0-20 days     0.857183\n",
      "21-40 days    0.622779\n",
      "41-60 days    0.623993\n",
      "61-80 days    0.640857\n",
      "81-98 days    0.747126\n",
      "Name: wait_day_range, dtype: float64 \n",
      "\n",
      "NO\n",
      " wait_day_range\n",
      "0-20 days     0.142817\n",
      "21-40 days    0.377221\n",
      "41-60 days    0.376007\n",
      "61-80 days    0.359143\n",
      "81-98 days    0.252874\n",
      "Name: wait_day_range, dtype: float64 \n",
      "\n",
      "DIFF\n",
      " wait_day_range\n",
      "0-20 days     0.714366\n",
      "21-40 days    0.245559\n",
      "41-60 days    0.247986\n",
      "61-80 days    0.281713\n",
      "81-98 days    0.494253\n",
      "Name: wait_day_range, dtype: float64\n"
     ]
    },
    {
     "data": {
      "image/png": "[encoded data removed]",
      "text/plain": [
       "<matplotlib.figure.Figure at 0x7f3a0d6defd0>"
      ]
     },
     "metadata": {
      "needs_background": "light"
     },
     "output_type": "display_data"
    }
   ],
   "source": [
    "bars(df_no_sms, 'wait_day_range', 'Rates of Show Up By Wait Time - No SMS', 'Wait Time', days_bin_names, 'greenyellow', 'purple', 'teal')"
   ]
  },
  {
   "cell_type": "code",
   "execution_count": 49,
   "metadata": {},
   "outputs": [
    {
     "name": "stdout",
     "output_type": "stream",
     "text": [
      "YES\n",
      " wait_day_range\n",
      "0-20 days     0.737785\n",
      "21-40 days    0.696213\n",
      "41-60 days    0.686992\n",
      "61-80 days    0.747137\n",
      "81-98 days    0.767442\n",
      "Name: wait_day_range, dtype: float64 \n",
      "\n",
      "NO\n",
      " wait_day_range\n",
      "0-20 days     0.262215\n",
      "21-40 days    0.303787\n",
      "41-60 days    0.313008\n",
      "61-80 days    0.252863\n",
      "81-98 days    0.232558\n",
      "Name: wait_day_range, dtype: float64 \n",
      "\n",
      "DIFF\n",
      " wait_day_range\n",
      "0-20 days     0.475570\n",
      "21-40 days    0.392426\n",
      "41-60 days    0.373984\n",
      "61-80 days    0.494275\n",
      "81-98 days    0.534884\n",
      "Name: wait_day_range, dtype: float64\n"
     ]
    },
    {
     "data": {
      "image/png": "[encoded data removed]",
      "text/plain": [
       "<matplotlib.figure.Figure at 0x7f3a0d5fa160>"
      ]
     },
     "metadata": {
      "needs_background": "light"
     },
     "output_type": "display_data"
    }
   ],
   "source": [
    "bars(df_got_sms, 'wait_day_range', 'Rates of Show Up By Wait Time - SMS received', 'Wait Time', days_bin_names, 'greenyellow', 'purple', 'teal')"
   ]
  },
  {
   "cell_type": "markdown",
   "metadata": {},
   "source": [
    "__From these two bar plots above, I can observe the following:__\n",
    "\n",
    "__1- For the group of people who waited 0-20 for the appointment, the ones who received an sms unexpectedly showed _worse_ \n",
    "show up proportions than the group that got the SMS.__\n",
    "\n",
    "__2- For the second, third, and fourth group, the ones who received an SMS showed up at higher rates than the ones who didn't. It seems that the reminder helped in their case (positive correlation).__\n",
    "\n",
    "__3- For the group that waited the longest, an SMS didn't really make a difference in whether they ended up showing or not. They show up by about the same rate in both cases.__"
   ]
  },
  {
   "cell_type": "markdown",
   "metadata": {},
   "source": [
    "<a id='conclusions'></a>\n",
    "## Conclusions\n",
    "\n",
    "__Through making calculations to arrive at the proportions of appointments showed up for vs those not showed for per variable (age of the patient, gender, handicap level, etc.), and using pie charts, bar charts, and histograms to communicate those proportions, I arrived at the following findings:__\n",
    "\n",
    "__1- No gender showed up at a significant rate more than the other. Men showed up more by just 0.3% than women, so there's not much of a difference.__\n",
    "\n",
    "__2- Either short or very long time between the scheduling day and the appointment day is correlated with _better_ chances of show up, but waiting a moderate to long time from 20-80 days is correlated with worse show up rates.__\n",
    "\n",
    "__3- Most patients are middle aged in general. Median patient who showed up is 38 (middle-aged), While the median patient who didn't is 33 (young adult). Older age (middle-age and beyond) is associated with better show up rates, while younger people showed worse show up rates.__\n",
    "\n",
    "__4- I couldn't really answer this question because of limitations.__\n",
    "\n",
    "__5- People are less likely to show up if they are welfare recipients.__\n",
    "\n",
    "__6- Having a chronic condition slightly increases show up rates compared to healthy people.__\n",
    "\n",
    "__7- The level of disability has a negative correlation with the show up rate.__\n",
    "\n",
    "__8- An SMS reminder helped people show up more in the case of patients who waited from 20-80 days. It doesn't seem to help people who waited more than that, and it actually seems to be correlated with with worse show up rates in the 0-20 days bracket. It's probably not that the SMS  _caused_ them to not go, but that is the appearant correlation from the charts. \n",
    "Maybe the reason behind the patient having to get an SMS despite the short wait time is itself the cause of the worse show up rate, but I can't know that for sure with what is available to me.__\n",
    "\n",
    "__Particularly factors to consider when thinking of correlation with show up are:__\n",
    "\n",
    "(age - the time between scheduling and appointment - welfare status - chronic conditions - disability - SMS reminder)\n",
    "\n",
    "__I conclude that an example of the ideal patient with the most probability of showing up is an old man who waited\n",
    "a short time for their medical appointment. That person isn't on welfare, does have a chronic condition, is able-bodied, and didn't receive an SMS.__\n",
    "\n",
    "__I'm going to compare the ideal patient to the general patients in the sample, using pie charts and calculations.__"
   ]
  },
  {
   "cell_type": "code",
   "execution_count": 50,
   "metadata": {},
   "outputs": [
    {
     "data": {
      "text/html": [
       "<div>\n",
       "<style scoped>\n",
       "    .dataframe tbody tr th:only-of-type {\n",
       "        vertical-align: middle;\n",
       "    }\n",
       "\n",
       "    .dataframe tbody tr th {\n",
       "        vertical-align: top;\n",
       "    }\n",
       "\n",
       "    .dataframe thead th {\n",
       "        text-align: right;\n",
       "    }\n",
       "</style>\n",
       "<table border=\"1\" class=\"dataframe\">\n",
       "  <thead>\n",
       "    <tr style=\"text-align: right;\">\n",
       "      <th></th>\n",
       "      <th>gender</th>\n",
       "      <th>scheduled_day</th>\n",
       "      <th>appointment_day</th>\n",
       "      <th>wait_days</th>\n",
       "      <th>wait_day_range</th>\n",
       "      <th>age</th>\n",
       "      <th>neighbourhood</th>\n",
       "      <th>on_welfare</th>\n",
       "      <th>hypertension</th>\n",
       "      <th>diabetes</th>\n",
       "      <th>alcoholism</th>\n",
       "      <th>handicap</th>\n",
       "      <th>sms_received</th>\n",
       "      <th>showed_up</th>\n",
       "    </tr>\n",
       "  </thead>\n",
       "  <tbody>\n",
       "    <tr>\n",
       "      <th>2166</th>\n",
       "      <td>M</td>\n",
       "      <td>2016-04-29</td>\n",
       "      <td>2016-04-29</td>\n",
       "      <td>0</td>\n",
       "      <td>0-20 days</td>\n",
       "      <td>65</td>\n",
       "      <td>SÃO JOSÉ</td>\n",
       "      <td>NO</td>\n",
       "      <td>YES</td>\n",
       "      <td>YES</td>\n",
       "      <td>YES</td>\n",
       "      <td>None</td>\n",
       "      <td>NO</td>\n",
       "      <td>YES</td>\n",
       "    </tr>\n",
       "    <tr>\n",
       "      <th>8976</th>\n",
       "      <td>M</td>\n",
       "      <td>2016-05-11</td>\n",
       "      <td>2016-05-12</td>\n",
       "      <td>1</td>\n",
       "      <td>0-20 days</td>\n",
       "      <td>74</td>\n",
       "      <td>ARIOVALDO FAVALESSA</td>\n",
       "      <td>NO</td>\n",
       "      <td>YES</td>\n",
       "      <td>YES</td>\n",
       "      <td>YES</td>\n",
       "      <td>None</td>\n",
       "      <td>NO</td>\n",
       "      <td>YES</td>\n",
       "    </tr>\n",
       "    <tr>\n",
       "      <th>12734</th>\n",
       "      <td>M</td>\n",
       "      <td>2016-05-06</td>\n",
       "      <td>2016-05-06</td>\n",
       "      <td>0</td>\n",
       "      <td>0-20 days</td>\n",
       "      <td>77</td>\n",
       "      <td>MARUÍPE</td>\n",
       "      <td>NO</td>\n",
       "      <td>YES</td>\n",
       "      <td>YES</td>\n",
       "      <td>YES</td>\n",
       "      <td>None</td>\n",
       "      <td>NO</td>\n",
       "      <td>YES</td>\n",
       "    </tr>\n",
       "    <tr>\n",
       "      <th>12781</th>\n",
       "      <td>M</td>\n",
       "      <td>2016-05-10</td>\n",
       "      <td>2016-05-10</td>\n",
       "      <td>0</td>\n",
       "      <td>0-20 days</td>\n",
       "      <td>62</td>\n",
       "      <td>SANTO ANTÔNIO</td>\n",
       "      <td>NO</td>\n",
       "      <td>YES</td>\n",
       "      <td>YES</td>\n",
       "      <td>YES</td>\n",
       "      <td>None</td>\n",
       "      <td>NO</td>\n",
       "      <td>YES</td>\n",
       "    </tr>\n",
       "    <tr>\n",
       "      <th>13743</th>\n",
       "      <td>M</td>\n",
       "      <td>2016-05-13</td>\n",
       "      <td>2016-05-17</td>\n",
       "      <td>4</td>\n",
       "      <td>0-20 days</td>\n",
       "      <td>75</td>\n",
       "      <td>DA PENHA</td>\n",
       "      <td>NO</td>\n",
       "      <td>YES</td>\n",
       "      <td>YES</td>\n",
       "      <td>YES</td>\n",
       "      <td>None</td>\n",
       "      <td>NO</td>\n",
       "      <td>YES</td>\n",
       "    </tr>\n",
       "  </tbody>\n",
       "</table>\n",
       "</div>"
      ],
      "text/plain": [
       "      gender scheduled_day appointment_day  wait_days wait_day_range  age  \\\n",
       "2166       M    2016-04-29      2016-04-29          0      0-20 days   65   \n",
       "8976       M    2016-05-11      2016-05-12          1      0-20 days   74   \n",
       "12734      M    2016-05-06      2016-05-06          0      0-20 days   77   \n",
       "12781      M    2016-05-10      2016-05-10          0      0-20 days   62   \n",
       "13743      M    2016-05-13      2016-05-17          4      0-20 days   75   \n",
       "\n",
       "             neighbourhood on_welfare hypertension diabetes alcoholism  \\\n",
       "2166              SÃO JOSÉ         NO          YES      YES        YES   \n",
       "8976   ARIOVALDO FAVALESSA         NO          YES      YES        YES   \n",
       "12734              MARUÍPE         NO          YES      YES        YES   \n",
       "12781        SANTO ANTÔNIO         NO          YES      YES        YES   \n",
       "13743             DA PENHA         NO          YES      YES        YES   \n",
       "\n",
       "      handicap sms_received showed_up  \n",
       "2166      None           NO       YES  \n",
       "8976      None           NO       YES  \n",
       "12734     None           NO       YES  \n",
       "12781     None           NO       YES  \n",
       "13743     None           NO       YES  "
      ]
     },
     "execution_count": 50,
     "metadata": {},
     "output_type": "execute_result"
    }
   ],
   "source": [
    "df_ideal = df.query('gender == \"M\" and age > 59 and wait_day_range == \"0-20 days\" and on_welfare == \"NO\" and hypertension == \"YES\" and diabetes == \"YES\" and alcoholism == \"YES\" and handicap == \"None\" and sms_received == \"NO\"')\n",
    "\n",
    "df_ideal.head()"
   ]
  },
  {
   "cell_type": "code",
   "execution_count": 51,
   "metadata": {
    "scrolled": true
   },
   "outputs": [
    {
     "name": "stdout",
     "output_type": "stream",
     "text": [
      "YES    0.890625\n",
      "NO     0.109375\n",
      "Name: showed_up, dtype: float64\n",
      "YES    0.798102\n",
      "NO     0.201898\n",
      "Name: showed_up, dtype: float64\n"
     ]
    }
   ],
   "source": [
    "print(df_ideal['showed_up'].value_counts(normalize=True))\n",
    "print(df['showed_up'].value_counts(normalize=True))"
   ]
  },
  {
   "cell_type": "code",
   "execution_count": 52,
   "metadata": {},
   "outputs": [
    {
     "data": {
      "image/png": "[encoded data removed]",
      "text/plain": [
       "<matplotlib.figure.Figure at 0x7f3a0d5ff2e8>"
      ]
     },
     "metadata": {},
     "output_type": "display_data"
    }
   ],
   "source": [
    "pie_charts(1, 'Ideal', df_ideal, 'salmon', 'mistyrose')\n",
    "pie_charts(2, 'General', df, 'darkorange', 'moccasin')"
   ]
  },
  {
   "cell_type": "markdown",
   "metadata": {},
   "source": [
    "__Here, we can see that the ideal type of patient is 9.3% more likely to show up for a medical appointment than the general sample.__"
   ]
  },
  {
   "cell_type": "markdown",
   "metadata": {},
   "source": [
    "### Limitations:\n",
    "\n",
    "__1- Appointment day only lists the day of the appointment, without being precise as to the hour, forcing me to calculate the wait time in days which is less precise, as the wait time would count as 0 days even if the person waited for 23:59:59 hours, for example.__\n",
    "\n",
    "__2- I couldn't answer the 4th question I posed related to the neighbourhood, since the data doesn't include anything about the neighbourhood other than just the name. Perhaps if the patient's place of residence were to be included along with its distance from the hospital location, then I would've been able to explore the relation between distance and show up rate.\n",
    "Maybe providing a quality rating of the hospital would've enabled the relation between hospital quality and show-up rate to be explored.__"
   ]
  },
  {
   "cell_type": "markdown",
   "metadata": {},
   "source": [
    "### Some helpful links:\n",
    "\n",
    "https://www.kite.com/python/answers/how-to-calculate-a-pandas-dataframe-time-difference-between-two-columns-in-python\n",
    "\n",
    "https://www.statology.org/pandas-unique-values-in-column/\n",
    "\n",
    "https://stackoverflow.com/questions/40901770/is-there-a-simple-way-to-change-a-column-of-yes-no-to-1-0-in-a-pandas-dataframe\n",
    "\n",
    "https://stackoverflow.com/questions/21090316/plotting-pandas-dataframes-in-to-pie-charts-using-matplotlib\n",
    "\n",
    "https://stackoverflow.com/questions/42818361/how-to-make-two-plots-side-by-side-using-python\n",
    "\n",
    "https://stackoverflow.com/questions/13682044/remove-unwanted-parts-from-strings-in-a-column/22238380\n",
    "\n",
    "https://www.geeksforgeeks.org/drop-rows-from-the-dataframe-based-on-certain-condition-applied-on-a-column/\n",
    "\n",
    "https://stackoverflow.com/questions/34094596/python-matplotlib-pyplot-pie-charts-how-to-remove-the-label-on-the-left-side"
   ]
  },
  {
   "cell_type": "markdown",
   "metadata": {},
   "source": [
    "## Submitting your Project "
   ]
  },
  {
   "cell_type": "code",
   "execution_count": 53,
   "metadata": {},
   "outputs": [
    {
     "data": {
      "text/plain": [
       "0"
      ]
     },
     "execution_count": 53,
     "metadata": {},
     "output_type": "execute_result"
    }
   ],
   "source": [
    "from subprocess import call\n",
    "call(['python', '-m', 'nbconvert', 'Investigate_a_Dataset.ipynb'])"
   ]
  }
 ],
 "metadata": {
  "kernelspec": {
   "display_name": "Python 3",
   "language": "python",
   "name": "python3"
  },
  "language_info": {
   "codemirror_mode": {
    "name": "ipython",
    "version": 3
   },
   "file_extension": ".py",
   "mimetype": "text/x-python",
   "name": "python",
   "nbconvert_exporter": "python",
   "pygments_lexer": "ipython3",
   "version": "3.6.3"
  }
 },
 "nbformat": 4,
 "nbformat_minor": 2
}
